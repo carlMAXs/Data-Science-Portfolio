{
 "cells": [
  {
   "cell_type": "markdown",
   "id": "54de4139",
   "metadata": {},
   "source": [
    "# Fraud Detection with Supervised Learning <a class=\"tocSkip\">\n",
    "**A personal project**\n",
    "\n",
    "**Author: Carl Cheng** \n",
    "\n",
    "**YY-MM: 2022-August**"
   ]
  },
  {
   "cell_type": "markdown",
   "id": "017af8a5",
   "metadata": {},
   "source": [
    "# Table of Contents <a class=\"tocSkip\">\n",
    "* [Section 1: Introduction](#Introduction)\n",
    "* [Section 2: Data Preparation](#Data-Preparation)\n",
    "    * [Section 2.1: Exploratory Data Analysis - EDA](#Exploratory-Data-Analysis---EDA)\n",
    "        * [Understand the Dataset](#Understand-the-Dataset)\n",
    "        * [Inspect for outliers](#Inspect-for-outliers)\n",
    "* [Section 3: Preprocessing](#Preprocessing)\n",
    "    * [Section 3.1: Issues need to be addressed](#Issues-need-to-be-addressed)\n",
    "    * [Section 3.2: Activities to add into the workflow](#Activities-need-to-add-into-the-workflow)\n",
    "        * [Undersampling and Oversampling](#Undersampling-and-Oversampling)\n",
    "        * [Scaling](#Scaling)\n",
    "        * [Cross Validation](#Cross-Validation)\n",
    "    * [Section 3.3: Import More Packages](#Import-More-Packages)\n",
    "* [Section 4: Building Models](#Build-Machine-Learning-Models)\n",
    "    * [Section 4.1: First Approach](#First-Approach)\n",
    "        * [Modeling with Oversampling Method](#Modeling-with-Oversampling-Method)\n",
    "    * [Section 4.2: Second Approach](#Second-Approach)\n",
    "        * [Baseline Test & Evaluation Metrics](#Baseline-Test-&-Evaluation-Metrics)\n",
    "             * [Why is recall important?](#Why-is-recall-important?)\n",
    "             * [Random forest - accuracy/recall](#Random-forest---accuracy/recall)\n",
    "             * [Logistic regression - accuracy/recall](#Logistic-regression---accuracy/recall)\n",
    "        * [Modeling with Oversampling](#Modeling-with-Oversampling)\n",
    "    * [Section 4.3: Tuning the Hyperparameters](#Tuning-the-Hyperparameters)\n",
    "* [Section 5: PR-Curve and ROC-AUC](#PR-curve-and-ROC-AUC)\n",
    "    * [Section 5.1: PR curve](#PR-curve)\n",
    "    * [Section 5.2: ROC curve and AUC](#ROC-curve-and-AUC)\n",
    "* [Section 6: Conclusion](#Conclusion)\n",
    "* [Section 7: Final Thoughts](#Final-Thoughts)"
   ]
  },
  {
   "cell_type": "markdown",
   "id": "5d431ec1",
   "metadata": {},
   "source": [
    "# Introduction"
   ]
  },
  {
   "cell_type": "markdown",
   "id": "7faf86f8",
   "metadata": {},
   "source": [
    "This is a personal project aimed at finding the best supervised learning settings for the given labeled credit card fraud dataset. This project was inspired by my own interest in fraud detection, so I decided to create my own pet project based on it, and along the way I used many helpful resources and tips online and in the book to construct my line of thought and the analysis process. The data was collected from Kaggle (source: https://www.kaggle.com/datasets/mlg-ulb/creditcardfraud), and it will also be posted on my Github under this project's repository."
   ]
  },
  {
   "cell_type": "markdown",
   "id": "09767f9b",
   "metadata": {},
   "source": [
    "# Data Preparation"
   ]
  },
  {
   "cell_type": "markdown",
   "id": "60a8ab61",
   "metadata": {},
   "source": [
    "## Exploratory Data Analysis - EDA\n",
    "### Understand the Dataset"
   ]
  },
  {
   "cell_type": "markdown",
   "id": "236aeae5",
   "metadata": {},
   "source": [
    "**Summary**\n",
    "* Most of the features (V1, V2, V3, ... V28) have no explicit information that we can feature engineering due to confidentiality issues.\n",
    "* Except for \"time\" and \"amount,\" all features had been scaled.\n",
    "* The majority of the transcations happened in the amount range of 5.60 to 77.16, which is the 25th and 75th percentile, respectively.\n",
    "* There are no null values, which saved us time during data cleaning.\n",
    "* Most of the transactions, as expected, are non-fraudulent. Non-frauds make 99.83% of the dataset, and frauds only make 0.17% of the dataset. They are extremely imbalanced.\n"
   ]
  },
  {
   "cell_type": "code",
   "execution_count": 4,
   "id": "d5b6be44",
   "metadata": {},
   "outputs": [],
   "source": [
    "#Importing the libraries\n",
    "import pandas as pd\n",
    "import matplotlib.pyplot as plt"
   ]
  },
  {
   "cell_type": "code",
   "execution_count": 5,
   "id": "47f073ce",
   "metadata": {},
   "outputs": [
    {
     "data": {
      "text/html": [
       "<div>\n",
       "<style scoped>\n",
       "    .dataframe tbody tr th:only-of-type {\n",
       "        vertical-align: middle;\n",
       "    }\n",
       "\n",
       "    .dataframe tbody tr th {\n",
       "        vertical-align: top;\n",
       "    }\n",
       "\n",
       "    .dataframe thead th {\n",
       "        text-align: right;\n",
       "    }\n",
       "</style>\n",
       "<table border=\"1\" class=\"dataframe\">\n",
       "  <thead>\n",
       "    <tr style=\"text-align: right;\">\n",
       "      <th></th>\n",
       "      <th>Time</th>\n",
       "      <th>V1</th>\n",
       "      <th>V2</th>\n",
       "      <th>V3</th>\n",
       "      <th>V4</th>\n",
       "      <th>V5</th>\n",
       "      <th>V6</th>\n",
       "      <th>V7</th>\n",
       "      <th>V8</th>\n",
       "      <th>V9</th>\n",
       "      <th>...</th>\n",
       "      <th>V21</th>\n",
       "      <th>V22</th>\n",
       "      <th>V23</th>\n",
       "      <th>V24</th>\n",
       "      <th>V25</th>\n",
       "      <th>V26</th>\n",
       "      <th>V27</th>\n",
       "      <th>V28</th>\n",
       "      <th>Amount</th>\n",
       "      <th>Class</th>\n",
       "    </tr>\n",
       "  </thead>\n",
       "  <tbody>\n",
       "    <tr>\n",
       "      <th>0</th>\n",
       "      <td>0.0</td>\n",
       "      <td>-1.359807</td>\n",
       "      <td>-0.072781</td>\n",
       "      <td>2.536347</td>\n",
       "      <td>1.378155</td>\n",
       "      <td>-0.338321</td>\n",
       "      <td>0.462388</td>\n",
       "      <td>0.239599</td>\n",
       "      <td>0.098698</td>\n",
       "      <td>0.363787</td>\n",
       "      <td>...</td>\n",
       "      <td>-0.018307</td>\n",
       "      <td>0.277838</td>\n",
       "      <td>-0.110474</td>\n",
       "      <td>0.066928</td>\n",
       "      <td>0.128539</td>\n",
       "      <td>-0.189115</td>\n",
       "      <td>0.133558</td>\n",
       "      <td>-0.021053</td>\n",
       "      <td>149.62</td>\n",
       "      <td>0</td>\n",
       "    </tr>\n",
       "    <tr>\n",
       "      <th>1</th>\n",
       "      <td>0.0</td>\n",
       "      <td>1.191857</td>\n",
       "      <td>0.266151</td>\n",
       "      <td>0.166480</td>\n",
       "      <td>0.448154</td>\n",
       "      <td>0.060018</td>\n",
       "      <td>-0.082361</td>\n",
       "      <td>-0.078803</td>\n",
       "      <td>0.085102</td>\n",
       "      <td>-0.255425</td>\n",
       "      <td>...</td>\n",
       "      <td>-0.225775</td>\n",
       "      <td>-0.638672</td>\n",
       "      <td>0.101288</td>\n",
       "      <td>-0.339846</td>\n",
       "      <td>0.167170</td>\n",
       "      <td>0.125895</td>\n",
       "      <td>-0.008983</td>\n",
       "      <td>0.014724</td>\n",
       "      <td>2.69</td>\n",
       "      <td>0</td>\n",
       "    </tr>\n",
       "    <tr>\n",
       "      <th>2</th>\n",
       "      <td>1.0</td>\n",
       "      <td>-1.358354</td>\n",
       "      <td>-1.340163</td>\n",
       "      <td>1.773209</td>\n",
       "      <td>0.379780</td>\n",
       "      <td>-0.503198</td>\n",
       "      <td>1.800499</td>\n",
       "      <td>0.791461</td>\n",
       "      <td>0.247676</td>\n",
       "      <td>-1.514654</td>\n",
       "      <td>...</td>\n",
       "      <td>0.247998</td>\n",
       "      <td>0.771679</td>\n",
       "      <td>0.909412</td>\n",
       "      <td>-0.689281</td>\n",
       "      <td>-0.327642</td>\n",
       "      <td>-0.139097</td>\n",
       "      <td>-0.055353</td>\n",
       "      <td>-0.059752</td>\n",
       "      <td>378.66</td>\n",
       "      <td>0</td>\n",
       "    </tr>\n",
       "    <tr>\n",
       "      <th>3</th>\n",
       "      <td>1.0</td>\n",
       "      <td>-0.966272</td>\n",
       "      <td>-0.185226</td>\n",
       "      <td>1.792993</td>\n",
       "      <td>-0.863291</td>\n",
       "      <td>-0.010309</td>\n",
       "      <td>1.247203</td>\n",
       "      <td>0.237609</td>\n",
       "      <td>0.377436</td>\n",
       "      <td>-1.387024</td>\n",
       "      <td>...</td>\n",
       "      <td>-0.108300</td>\n",
       "      <td>0.005274</td>\n",
       "      <td>-0.190321</td>\n",
       "      <td>-1.175575</td>\n",
       "      <td>0.647376</td>\n",
       "      <td>-0.221929</td>\n",
       "      <td>0.062723</td>\n",
       "      <td>0.061458</td>\n",
       "      <td>123.50</td>\n",
       "      <td>0</td>\n",
       "    </tr>\n",
       "    <tr>\n",
       "      <th>4</th>\n",
       "      <td>2.0</td>\n",
       "      <td>-1.158233</td>\n",
       "      <td>0.877737</td>\n",
       "      <td>1.548718</td>\n",
       "      <td>0.403034</td>\n",
       "      <td>-0.407193</td>\n",
       "      <td>0.095921</td>\n",
       "      <td>0.592941</td>\n",
       "      <td>-0.270533</td>\n",
       "      <td>0.817739</td>\n",
       "      <td>...</td>\n",
       "      <td>-0.009431</td>\n",
       "      <td>0.798278</td>\n",
       "      <td>-0.137458</td>\n",
       "      <td>0.141267</td>\n",
       "      <td>-0.206010</td>\n",
       "      <td>0.502292</td>\n",
       "      <td>0.219422</td>\n",
       "      <td>0.215153</td>\n",
       "      <td>69.99</td>\n",
       "      <td>0</td>\n",
       "    </tr>\n",
       "  </tbody>\n",
       "</table>\n",
       "<p>5 rows × 31 columns</p>\n",
       "</div>"
      ],
      "text/plain": [
       "   Time        V1        V2        V3        V4        V5        V6        V7  \\\n",
       "0   0.0 -1.359807 -0.072781  2.536347  1.378155 -0.338321  0.462388  0.239599   \n",
       "1   0.0  1.191857  0.266151  0.166480  0.448154  0.060018 -0.082361 -0.078803   \n",
       "2   1.0 -1.358354 -1.340163  1.773209  0.379780 -0.503198  1.800499  0.791461   \n",
       "3   1.0 -0.966272 -0.185226  1.792993 -0.863291 -0.010309  1.247203  0.237609   \n",
       "4   2.0 -1.158233  0.877737  1.548718  0.403034 -0.407193  0.095921  0.592941   \n",
       "\n",
       "         V8        V9  ...       V21       V22       V23       V24       V25  \\\n",
       "0  0.098698  0.363787  ... -0.018307  0.277838 -0.110474  0.066928  0.128539   \n",
       "1  0.085102 -0.255425  ... -0.225775 -0.638672  0.101288 -0.339846  0.167170   \n",
       "2  0.247676 -1.514654  ...  0.247998  0.771679  0.909412 -0.689281 -0.327642   \n",
       "3  0.377436 -1.387024  ... -0.108300  0.005274 -0.190321 -1.175575  0.647376   \n",
       "4 -0.270533  0.817739  ... -0.009431  0.798278 -0.137458  0.141267 -0.206010   \n",
       "\n",
       "        V26       V27       V28  Amount  Class  \n",
       "0 -0.189115  0.133558 -0.021053  149.62      0  \n",
       "1  0.125895 -0.008983  0.014724    2.69      0  \n",
       "2 -0.139097 -0.055353 -0.059752  378.66      0  \n",
       "3 -0.221929  0.062723  0.061458  123.50      0  \n",
       "4  0.502292  0.219422  0.215153   69.99      0  \n",
       "\n",
       "[5 rows x 31 columns]"
      ]
     },
     "execution_count": 5,
     "metadata": {},
     "output_type": "execute_result"
    }
   ],
   "source": [
    "#loading the data\n",
    "df = pd.read_csv(\"creditcard_Kg.csv\")\n",
    "\n",
    "#Understanding the basic structure of the data with head, shape, info, and describe.\n",
    "df.head()"
   ]
  },
  {
   "cell_type": "code",
   "execution_count": 3,
   "id": "0d28d926",
   "metadata": {},
   "outputs": [
    {
     "data": {
      "text/plain": [
       "(284807, 31)"
      ]
     },
     "execution_count": 3,
     "metadata": {},
     "output_type": "execute_result"
    }
   ],
   "source": [
    "#Shape of the data\n",
    "df.shape"
   ]
  },
  {
   "cell_type": "code",
   "execution_count": 4,
   "id": "a38fff5d",
   "metadata": {},
   "outputs": [
    {
     "name": "stdout",
     "output_type": "stream",
     "text": [
      "<class 'pandas.core.frame.DataFrame'>\n",
      "RangeIndex: 284807 entries, 0 to 284806\n",
      "Data columns (total 31 columns):\n",
      " #   Column  Non-Null Count   Dtype  \n",
      "---  ------  --------------   -----  \n",
      " 0   Time    284807 non-null  float64\n",
      " 1   V1      284807 non-null  float64\n",
      " 2   V2      284807 non-null  float64\n",
      " 3   V3      284807 non-null  float64\n",
      " 4   V4      284807 non-null  float64\n",
      " 5   V5      284807 non-null  float64\n",
      " 6   V6      284807 non-null  float64\n",
      " 7   V7      284807 non-null  float64\n",
      " 8   V8      284807 non-null  float64\n",
      " 9   V9      284807 non-null  float64\n",
      " 10  V10     284807 non-null  float64\n",
      " 11  V11     284807 non-null  float64\n",
      " 12  V12     284807 non-null  float64\n",
      " 13  V13     284807 non-null  float64\n",
      " 14  V14     284807 non-null  float64\n",
      " 15  V15     284807 non-null  float64\n",
      " 16  V16     284807 non-null  float64\n",
      " 17  V17     284807 non-null  float64\n",
      " 18  V18     284807 non-null  float64\n",
      " 19  V19     284807 non-null  float64\n",
      " 20  V20     284807 non-null  float64\n",
      " 21  V21     284807 non-null  float64\n",
      " 22  V22     284807 non-null  float64\n",
      " 23  V23     284807 non-null  float64\n",
      " 24  V24     284807 non-null  float64\n",
      " 25  V25     284807 non-null  float64\n",
      " 26  V26     284807 non-null  float64\n",
      " 27  V27     284807 non-null  float64\n",
      " 28  V28     284807 non-null  float64\n",
      " 29  Amount  284807 non-null  float64\n",
      " 30  Class   284807 non-null  int64  \n",
      "dtypes: float64(30), int64(1)\n",
      "memory usage: 67.4 MB\n"
     ]
    }
   ],
   "source": [
    "#Datatypes and completeness of the data\n",
    "df.info()"
   ]
  },
  {
   "cell_type": "code",
   "execution_count": 5,
   "id": "df9ed1ab",
   "metadata": {
    "scrolled": true
   },
   "outputs": [
    {
     "data": {
      "text/html": [
       "<div>\n",
       "<style scoped>\n",
       "    .dataframe tbody tr th:only-of-type {\n",
       "        vertical-align: middle;\n",
       "    }\n",
       "\n",
       "    .dataframe tbody tr th {\n",
       "        vertical-align: top;\n",
       "    }\n",
       "\n",
       "    .dataframe thead th {\n",
       "        text-align: right;\n",
       "    }\n",
       "</style>\n",
       "<table border=\"1\" class=\"dataframe\">\n",
       "  <thead>\n",
       "    <tr style=\"text-align: right;\">\n",
       "      <th></th>\n",
       "      <th>Time</th>\n",
       "      <th>V1</th>\n",
       "      <th>V2</th>\n",
       "      <th>V3</th>\n",
       "      <th>V4</th>\n",
       "      <th>V5</th>\n",
       "      <th>V6</th>\n",
       "      <th>V7</th>\n",
       "      <th>V8</th>\n",
       "      <th>V9</th>\n",
       "      <th>...</th>\n",
       "      <th>V21</th>\n",
       "      <th>V22</th>\n",
       "      <th>V23</th>\n",
       "      <th>V24</th>\n",
       "      <th>V25</th>\n",
       "      <th>V26</th>\n",
       "      <th>V27</th>\n",
       "      <th>V28</th>\n",
       "      <th>Amount</th>\n",
       "      <th>Class</th>\n",
       "    </tr>\n",
       "  </thead>\n",
       "  <tbody>\n",
       "    <tr>\n",
       "      <th>count</th>\n",
       "      <td>284807.000000</td>\n",
       "      <td>2.848070e+05</td>\n",
       "      <td>2.848070e+05</td>\n",
       "      <td>2.848070e+05</td>\n",
       "      <td>2.848070e+05</td>\n",
       "      <td>2.848070e+05</td>\n",
       "      <td>2.848070e+05</td>\n",
       "      <td>2.848070e+05</td>\n",
       "      <td>2.848070e+05</td>\n",
       "      <td>2.848070e+05</td>\n",
       "      <td>...</td>\n",
       "      <td>2.848070e+05</td>\n",
       "      <td>2.848070e+05</td>\n",
       "      <td>2.848070e+05</td>\n",
       "      <td>2.848070e+05</td>\n",
       "      <td>2.848070e+05</td>\n",
       "      <td>2.848070e+05</td>\n",
       "      <td>2.848070e+05</td>\n",
       "      <td>2.848070e+05</td>\n",
       "      <td>284807.000000</td>\n",
       "      <td>284807.000000</td>\n",
       "    </tr>\n",
       "    <tr>\n",
       "      <th>mean</th>\n",
       "      <td>94813.859575</td>\n",
       "      <td>3.918649e-15</td>\n",
       "      <td>5.682686e-16</td>\n",
       "      <td>-8.761736e-15</td>\n",
       "      <td>2.811118e-15</td>\n",
       "      <td>-1.552103e-15</td>\n",
       "      <td>2.040130e-15</td>\n",
       "      <td>-1.698953e-15</td>\n",
       "      <td>-1.893285e-16</td>\n",
       "      <td>-3.147640e-15</td>\n",
       "      <td>...</td>\n",
       "      <td>1.473120e-16</td>\n",
       "      <td>8.042109e-16</td>\n",
       "      <td>5.282512e-16</td>\n",
       "      <td>4.456271e-15</td>\n",
       "      <td>1.426896e-15</td>\n",
       "      <td>1.701640e-15</td>\n",
       "      <td>-3.662252e-16</td>\n",
       "      <td>-1.217809e-16</td>\n",
       "      <td>88.349619</td>\n",
       "      <td>0.001727</td>\n",
       "    </tr>\n",
       "    <tr>\n",
       "      <th>std</th>\n",
       "      <td>47488.145955</td>\n",
       "      <td>1.958696e+00</td>\n",
       "      <td>1.651309e+00</td>\n",
       "      <td>1.516255e+00</td>\n",
       "      <td>1.415869e+00</td>\n",
       "      <td>1.380247e+00</td>\n",
       "      <td>1.332271e+00</td>\n",
       "      <td>1.237094e+00</td>\n",
       "      <td>1.194353e+00</td>\n",
       "      <td>1.098632e+00</td>\n",
       "      <td>...</td>\n",
       "      <td>7.345240e-01</td>\n",
       "      <td>7.257016e-01</td>\n",
       "      <td>6.244603e-01</td>\n",
       "      <td>6.056471e-01</td>\n",
       "      <td>5.212781e-01</td>\n",
       "      <td>4.822270e-01</td>\n",
       "      <td>4.036325e-01</td>\n",
       "      <td>3.300833e-01</td>\n",
       "      <td>250.120109</td>\n",
       "      <td>0.041527</td>\n",
       "    </tr>\n",
       "    <tr>\n",
       "      <th>min</th>\n",
       "      <td>0.000000</td>\n",
       "      <td>-5.640751e+01</td>\n",
       "      <td>-7.271573e+01</td>\n",
       "      <td>-4.832559e+01</td>\n",
       "      <td>-5.683171e+00</td>\n",
       "      <td>-1.137433e+02</td>\n",
       "      <td>-2.616051e+01</td>\n",
       "      <td>-4.355724e+01</td>\n",
       "      <td>-7.321672e+01</td>\n",
       "      <td>-1.343407e+01</td>\n",
       "      <td>...</td>\n",
       "      <td>-3.483038e+01</td>\n",
       "      <td>-1.093314e+01</td>\n",
       "      <td>-4.480774e+01</td>\n",
       "      <td>-2.836627e+00</td>\n",
       "      <td>-1.029540e+01</td>\n",
       "      <td>-2.604551e+00</td>\n",
       "      <td>-2.256568e+01</td>\n",
       "      <td>-1.543008e+01</td>\n",
       "      <td>0.000000</td>\n",
       "      <td>0.000000</td>\n",
       "    </tr>\n",
       "    <tr>\n",
       "      <th>25%</th>\n",
       "      <td>54201.500000</td>\n",
       "      <td>-9.203734e-01</td>\n",
       "      <td>-5.985499e-01</td>\n",
       "      <td>-8.903648e-01</td>\n",
       "      <td>-8.486401e-01</td>\n",
       "      <td>-6.915971e-01</td>\n",
       "      <td>-7.682956e-01</td>\n",
       "      <td>-5.540759e-01</td>\n",
       "      <td>-2.086297e-01</td>\n",
       "      <td>-6.430976e-01</td>\n",
       "      <td>...</td>\n",
       "      <td>-2.283949e-01</td>\n",
       "      <td>-5.423504e-01</td>\n",
       "      <td>-1.618463e-01</td>\n",
       "      <td>-3.545861e-01</td>\n",
       "      <td>-3.171451e-01</td>\n",
       "      <td>-3.269839e-01</td>\n",
       "      <td>-7.083953e-02</td>\n",
       "      <td>-5.295979e-02</td>\n",
       "      <td>5.600000</td>\n",
       "      <td>0.000000</td>\n",
       "    </tr>\n",
       "    <tr>\n",
       "      <th>50%</th>\n",
       "      <td>84692.000000</td>\n",
       "      <td>1.810880e-02</td>\n",
       "      <td>6.548556e-02</td>\n",
       "      <td>1.798463e-01</td>\n",
       "      <td>-1.984653e-02</td>\n",
       "      <td>-5.433583e-02</td>\n",
       "      <td>-2.741871e-01</td>\n",
       "      <td>4.010308e-02</td>\n",
       "      <td>2.235804e-02</td>\n",
       "      <td>-5.142873e-02</td>\n",
       "      <td>...</td>\n",
       "      <td>-2.945017e-02</td>\n",
       "      <td>6.781943e-03</td>\n",
       "      <td>-1.119293e-02</td>\n",
       "      <td>4.097606e-02</td>\n",
       "      <td>1.659350e-02</td>\n",
       "      <td>-5.213911e-02</td>\n",
       "      <td>1.342146e-03</td>\n",
       "      <td>1.124383e-02</td>\n",
       "      <td>22.000000</td>\n",
       "      <td>0.000000</td>\n",
       "    </tr>\n",
       "    <tr>\n",
       "      <th>75%</th>\n",
       "      <td>139320.500000</td>\n",
       "      <td>1.315642e+00</td>\n",
       "      <td>8.037239e-01</td>\n",
       "      <td>1.027196e+00</td>\n",
       "      <td>7.433413e-01</td>\n",
       "      <td>6.119264e-01</td>\n",
       "      <td>3.985649e-01</td>\n",
       "      <td>5.704361e-01</td>\n",
       "      <td>3.273459e-01</td>\n",
       "      <td>5.971390e-01</td>\n",
       "      <td>...</td>\n",
       "      <td>1.863772e-01</td>\n",
       "      <td>5.285536e-01</td>\n",
       "      <td>1.476421e-01</td>\n",
       "      <td>4.395266e-01</td>\n",
       "      <td>3.507156e-01</td>\n",
       "      <td>2.409522e-01</td>\n",
       "      <td>9.104512e-02</td>\n",
       "      <td>7.827995e-02</td>\n",
       "      <td>77.165000</td>\n",
       "      <td>0.000000</td>\n",
       "    </tr>\n",
       "    <tr>\n",
       "      <th>max</th>\n",
       "      <td>172792.000000</td>\n",
       "      <td>2.454930e+00</td>\n",
       "      <td>2.205773e+01</td>\n",
       "      <td>9.382558e+00</td>\n",
       "      <td>1.687534e+01</td>\n",
       "      <td>3.480167e+01</td>\n",
       "      <td>7.330163e+01</td>\n",
       "      <td>1.205895e+02</td>\n",
       "      <td>2.000721e+01</td>\n",
       "      <td>1.559499e+01</td>\n",
       "      <td>...</td>\n",
       "      <td>2.720284e+01</td>\n",
       "      <td>1.050309e+01</td>\n",
       "      <td>2.252841e+01</td>\n",
       "      <td>4.584549e+00</td>\n",
       "      <td>7.519589e+00</td>\n",
       "      <td>3.517346e+00</td>\n",
       "      <td>3.161220e+01</td>\n",
       "      <td>3.384781e+01</td>\n",
       "      <td>25691.160000</td>\n",
       "      <td>1.000000</td>\n",
       "    </tr>\n",
       "  </tbody>\n",
       "</table>\n",
       "<p>8 rows × 31 columns</p>\n",
       "</div>"
      ],
      "text/plain": [
       "                Time            V1            V2            V3            V4  \\\n",
       "count  284807.000000  2.848070e+05  2.848070e+05  2.848070e+05  2.848070e+05   \n",
       "mean    94813.859575  3.918649e-15  5.682686e-16 -8.761736e-15  2.811118e-15   \n",
       "std     47488.145955  1.958696e+00  1.651309e+00  1.516255e+00  1.415869e+00   \n",
       "min         0.000000 -5.640751e+01 -7.271573e+01 -4.832559e+01 -5.683171e+00   \n",
       "25%     54201.500000 -9.203734e-01 -5.985499e-01 -8.903648e-01 -8.486401e-01   \n",
       "50%     84692.000000  1.810880e-02  6.548556e-02  1.798463e-01 -1.984653e-02   \n",
       "75%    139320.500000  1.315642e+00  8.037239e-01  1.027196e+00  7.433413e-01   \n",
       "max    172792.000000  2.454930e+00  2.205773e+01  9.382558e+00  1.687534e+01   \n",
       "\n",
       "                 V5            V6            V7            V8            V9  \\\n",
       "count  2.848070e+05  2.848070e+05  2.848070e+05  2.848070e+05  2.848070e+05   \n",
       "mean  -1.552103e-15  2.040130e-15 -1.698953e-15 -1.893285e-16 -3.147640e-15   \n",
       "std    1.380247e+00  1.332271e+00  1.237094e+00  1.194353e+00  1.098632e+00   \n",
       "min   -1.137433e+02 -2.616051e+01 -4.355724e+01 -7.321672e+01 -1.343407e+01   \n",
       "25%   -6.915971e-01 -7.682956e-01 -5.540759e-01 -2.086297e-01 -6.430976e-01   \n",
       "50%   -5.433583e-02 -2.741871e-01  4.010308e-02  2.235804e-02 -5.142873e-02   \n",
       "75%    6.119264e-01  3.985649e-01  5.704361e-01  3.273459e-01  5.971390e-01   \n",
       "max    3.480167e+01  7.330163e+01  1.205895e+02  2.000721e+01  1.559499e+01   \n",
       "\n",
       "       ...           V21           V22           V23           V24  \\\n",
       "count  ...  2.848070e+05  2.848070e+05  2.848070e+05  2.848070e+05   \n",
       "mean   ...  1.473120e-16  8.042109e-16  5.282512e-16  4.456271e-15   \n",
       "std    ...  7.345240e-01  7.257016e-01  6.244603e-01  6.056471e-01   \n",
       "min    ... -3.483038e+01 -1.093314e+01 -4.480774e+01 -2.836627e+00   \n",
       "25%    ... -2.283949e-01 -5.423504e-01 -1.618463e-01 -3.545861e-01   \n",
       "50%    ... -2.945017e-02  6.781943e-03 -1.119293e-02  4.097606e-02   \n",
       "75%    ...  1.863772e-01  5.285536e-01  1.476421e-01  4.395266e-01   \n",
       "max    ...  2.720284e+01  1.050309e+01  2.252841e+01  4.584549e+00   \n",
       "\n",
       "                V25           V26           V27           V28         Amount  \\\n",
       "count  2.848070e+05  2.848070e+05  2.848070e+05  2.848070e+05  284807.000000   \n",
       "mean   1.426896e-15  1.701640e-15 -3.662252e-16 -1.217809e-16      88.349619   \n",
       "std    5.212781e-01  4.822270e-01  4.036325e-01  3.300833e-01     250.120109   \n",
       "min   -1.029540e+01 -2.604551e+00 -2.256568e+01 -1.543008e+01       0.000000   \n",
       "25%   -3.171451e-01 -3.269839e-01 -7.083953e-02 -5.295979e-02       5.600000   \n",
       "50%    1.659350e-02 -5.213911e-02  1.342146e-03  1.124383e-02      22.000000   \n",
       "75%    3.507156e-01  2.409522e-01  9.104512e-02  7.827995e-02      77.165000   \n",
       "max    7.519589e+00  3.517346e+00  3.161220e+01  3.384781e+01   25691.160000   \n",
       "\n",
       "               Class  \n",
       "count  284807.000000  \n",
       "mean        0.001727  \n",
       "std         0.041527  \n",
       "min         0.000000  \n",
       "25%         0.000000  \n",
       "50%         0.000000  \n",
       "75%         0.000000  \n",
       "max         1.000000  \n",
       "\n",
       "[8 rows x 31 columns]"
      ]
     },
     "execution_count": 5,
     "metadata": {},
     "output_type": "execute_result"
    }
   ],
   "source": [
    "#Check the distribution of numerical values for each attribute\n",
    "df.describe()"
   ]
  },
  {
   "cell_type": "code",
   "execution_count": 6,
   "id": "d38be450",
   "metadata": {},
   "outputs": [
    {
     "name": "stdout",
     "output_type": "stream",
     "text": [
      "0    284315\n",
      "1       492\n",
      "Name: Class, dtype: int64\n",
      "0    0.998273\n",
      "1    0.001727\n",
      "Name: Class, dtype: float64\n"
     ]
    }
   ],
   "source": [
    "# Count the occurrences of fraud and no fraud and print them\n",
    "occ = df['Class'].value_counts()\n",
    "print(occ)\n",
    "\n",
    "# Print the ratio of fraud cases\n",
    "print(occ / len(df.index))"
   ]
  },
  {
   "cell_type": "code",
   "execution_count": 7,
   "id": "85a9da02",
   "metadata": {},
   "outputs": [
    {
     "data": {
      "text/plain": [
       "<AxesSubplot:ylabel='Class'>"
      ]
     },
     "execution_count": 7,
     "metadata": {},
     "output_type": "execute_result"
    },
    {
     "data": {
      "image/png": "[encoded data removed]",
      "text/plain": [
       "<Figure size 432x288 with 1 Axes>"
      ]
     },
     "metadata": {},
     "output_type": "display_data"
    }
   ],
   "source": [
    "#Plot them by pie chart\n",
    "(occ / len(df.index)).plot.pie()"
   ]
  },
  {
   "cell_type": "code",
   "execution_count": 8,
   "id": "8e156b84",
   "metadata": {},
   "outputs": [
    {
     "name": "stdout",
     "output_type": "stream",
     "text": [
      "No Frauds 99.83 % of the dataset\n",
      "Frauds 0.17 % of the dataset\n"
     ]
    }
   ],
   "source": [
    "#The distribution is heavily skewed towards non-fraud.\n",
    "print('No Frauds', round(df['Class'].value_counts()[0]/len(df) * 100,2), '% of the dataset')\n",
    "print('Frauds', round(df['Class'].value_counts()[1]/len(df) * 100,2), '% of the dataset')"
   ]
  },
  {
   "cell_type": "code",
   "execution_count": 9,
   "id": "0a077329",
   "metadata": {},
   "outputs": [
    {
     "data": {
      "text/plain": [
       "Text(0, 0.5, 'Dollar')"
      ]
     },
     "execution_count": 9,
     "metadata": {},
     "output_type": "execute_result"
    },
    {
     "data": {
      "image/png": "[encoded data removed]",
      "text/plain": [
       "<Figure size 432x288 with 1 Axes>"
      ]
     },
     "metadata": {
      "needs_background": "light"
     },
     "output_type": "display_data"
    }
   ],
   "source": [
    "#Distribution of transcation amount\n",
    "plt.hist(df['Amount'], bins=50)\n",
    "plt.title('Transcation Amount')\n",
    "plt.ylabel('Dollar') #Assuming its a NA dataset"
   ]
  },
  {
   "cell_type": "markdown",
   "id": "0a51a549",
   "metadata": {},
   "source": [
    "### Inspect for outliers\n",
    "After inspecting the dataset, it leaves us with two columns: Time and Amount in its orignal form. Thus, we must scale the columns just as the other columns, but before doing so, we should take a look at the distribution of the two attributes, individually.\n",
    "\n",
    "**Summary**\n",
    "* There are few outliers in \"Amount\" column\n",
    "* \"Time\" has little to none outliers spotted."
   ]
  },
  {
   "cell_type": "code",
   "execution_count": 10,
   "id": "31efb757",
   "metadata": {},
   "outputs": [
    {
     "data": {
      "text/plain": [
       "<AxesSubplot:xlabel='Time'>"
      ]
     },
     "execution_count": 10,
     "metadata": {},
     "output_type": "execute_result"
    },
    {
     "data": {
      "image/png": "[encoded data removed]",
      "text/plain": [
       "<Figure size 432x288 with 1 Axes>"
      ]
     },
     "metadata": {},
     "output_type": "display_data"
    }
   ],
   "source": [
    "#spot the outliers\n",
    "import seaborn as sns\n",
    "sns.set_theme(style='whitegrid')\n",
    "sns.boxplot(x=df['Time'], fliersize=5) #creat a boxplot"
   ]
  },
  {
   "cell_type": "code",
   "execution_count": 11,
   "id": "c22c774e",
   "metadata": {},
   "outputs": [
    {
     "data": {
      "text/plain": [
       "<AxesSubplot:xlabel='Time', ylabel='Count'>"
      ]
     },
     "execution_count": 11,
     "metadata": {},
     "output_type": "execute_result"
    },
    {
     "data": {
      "image/png": "[encoded data removed]",
      "text/plain": [
       "<Figure size 432x288 with 1 Axes>"
      ]
     },
     "metadata": {},
     "output_type": "display_data"
    }
   ],
   "source": [
    "sns.histplot(data=df['Time'])"
   ]
  },
  {
   "cell_type": "code",
   "execution_count": 12,
   "id": "d4a16eee",
   "metadata": {},
   "outputs": [
    {
     "data": {
      "text/html": [
       "<div>\n",
       "<style scoped>\n",
       "    .dataframe tbody tr th:only-of-type {\n",
       "        vertical-align: middle;\n",
       "    }\n",
       "\n",
       "    .dataframe tbody tr th {\n",
       "        vertical-align: top;\n",
       "    }\n",
       "\n",
       "    .dataframe thead th {\n",
       "        text-align: right;\n",
       "    }\n",
       "</style>\n",
       "<table border=\"1\" class=\"dataframe\">\n",
       "  <thead>\n",
       "    <tr style=\"text-align: right;\">\n",
       "      <th></th>\n",
       "      <th>Time</th>\n",
       "      <th>Class</th>\n",
       "    </tr>\n",
       "  </thead>\n",
       "  <tbody>\n",
       "    <tr>\n",
       "      <th>284806</th>\n",
       "      <td>172792.0</td>\n",
       "      <td>0</td>\n",
       "    </tr>\n",
       "    <tr>\n",
       "      <th>284805</th>\n",
       "      <td>172788.0</td>\n",
       "      <td>0</td>\n",
       "    </tr>\n",
       "    <tr>\n",
       "      <th>284804</th>\n",
       "      <td>172788.0</td>\n",
       "      <td>0</td>\n",
       "    </tr>\n",
       "    <tr>\n",
       "      <th>284803</th>\n",
       "      <td>172787.0</td>\n",
       "      <td>0</td>\n",
       "    </tr>\n",
       "    <tr>\n",
       "      <th>284802</th>\n",
       "      <td>172786.0</td>\n",
       "      <td>0</td>\n",
       "    </tr>\n",
       "    <tr>\n",
       "      <th>284801</th>\n",
       "      <td>172785.0</td>\n",
       "      <td>0</td>\n",
       "    </tr>\n",
       "    <tr>\n",
       "      <th>284800</th>\n",
       "      <td>172784.0</td>\n",
       "      <td>0</td>\n",
       "    </tr>\n",
       "    <tr>\n",
       "      <th>284799</th>\n",
       "      <td>172783.0</td>\n",
       "      <td>0</td>\n",
       "    </tr>\n",
       "    <tr>\n",
       "      <th>284798</th>\n",
       "      <td>172782.0</td>\n",
       "      <td>0</td>\n",
       "    </tr>\n",
       "    <tr>\n",
       "      <th>284797</th>\n",
       "      <td>172782.0</td>\n",
       "      <td>0</td>\n",
       "    </tr>\n",
       "  </tbody>\n",
       "</table>\n",
       "</div>"
      ],
      "text/plain": [
       "            Time  Class\n",
       "284806  172792.0      0\n",
       "284805  172788.0      0\n",
       "284804  172788.0      0\n",
       "284803  172787.0      0\n",
       "284802  172786.0      0\n",
       "284801  172785.0      0\n",
       "284800  172784.0      0\n",
       "284799  172783.0      0\n",
       "284798  172782.0      0\n",
       "284797  172782.0      0"
      ]
     },
     "execution_count": 12,
     "metadata": {},
     "output_type": "execute_result"
    }
   ],
   "source": [
    "df.sort_values(by='Time',ascending=False)[['Time','Class']].iloc[:10]"
   ]
  },
  {
   "cell_type": "code",
   "execution_count": 13,
   "id": "e05fdfc3",
   "metadata": {},
   "outputs": [
    {
     "data": {
      "text/html": [
       "<div>\n",
       "<style scoped>\n",
       "    .dataframe tbody tr th:only-of-type {\n",
       "        vertical-align: middle;\n",
       "    }\n",
       "\n",
       "    .dataframe tbody tr th {\n",
       "        vertical-align: top;\n",
       "    }\n",
       "\n",
       "    .dataframe thead th {\n",
       "        text-align: right;\n",
       "    }\n",
       "</style>\n",
       "<table border=\"1\" class=\"dataframe\">\n",
       "  <thead>\n",
       "    <tr style=\"text-align: right;\">\n",
       "      <th></th>\n",
       "      <th>Time</th>\n",
       "      <th>Class</th>\n",
       "    </tr>\n",
       "  </thead>\n",
       "  <tbody>\n",
       "    <tr>\n",
       "      <th>9</th>\n",
       "      <td>9.0</td>\n",
       "      <td>0</td>\n",
       "    </tr>\n",
       "    <tr>\n",
       "      <th>8</th>\n",
       "      <td>7.0</td>\n",
       "      <td>0</td>\n",
       "    </tr>\n",
       "    <tr>\n",
       "      <th>7</th>\n",
       "      <td>7.0</td>\n",
       "      <td>0</td>\n",
       "    </tr>\n",
       "    <tr>\n",
       "      <th>6</th>\n",
       "      <td>4.0</td>\n",
       "      <td>0</td>\n",
       "    </tr>\n",
       "    <tr>\n",
       "      <th>4</th>\n",
       "      <td>2.0</td>\n",
       "      <td>0</td>\n",
       "    </tr>\n",
       "    <tr>\n",
       "      <th>5</th>\n",
       "      <td>2.0</td>\n",
       "      <td>0</td>\n",
       "    </tr>\n",
       "    <tr>\n",
       "      <th>2</th>\n",
       "      <td>1.0</td>\n",
       "      <td>0</td>\n",
       "    </tr>\n",
       "    <tr>\n",
       "      <th>3</th>\n",
       "      <td>1.0</td>\n",
       "      <td>0</td>\n",
       "    </tr>\n",
       "    <tr>\n",
       "      <th>1</th>\n",
       "      <td>0.0</td>\n",
       "      <td>0</td>\n",
       "    </tr>\n",
       "    <tr>\n",
       "      <th>0</th>\n",
       "      <td>0.0</td>\n",
       "      <td>0</td>\n",
       "    </tr>\n",
       "  </tbody>\n",
       "</table>\n",
       "</div>"
      ],
      "text/plain": [
       "   Time  Class\n",
       "9   9.0      0\n",
       "8   7.0      0\n",
       "7   7.0      0\n",
       "6   4.0      0\n",
       "4   2.0      0\n",
       "5   2.0      0\n",
       "2   1.0      0\n",
       "3   1.0      0\n",
       "1   0.0      0\n",
       "0   0.0      0"
      ]
     },
     "execution_count": 13,
     "metadata": {},
     "output_type": "execute_result"
    }
   ],
   "source": [
    "df.sort_values(by='Time',ascending=False)[['Time','Class']].tail(10)"
   ]
  },
  {
   "cell_type": "code",
   "execution_count": 14,
   "id": "48875d22",
   "metadata": {},
   "outputs": [
    {
     "data": {
      "text/plain": [
       "<AxesSubplot:xlabel='Amount'>"
      ]
     },
     "execution_count": 14,
     "metadata": {},
     "output_type": "execute_result"
    },
    {
     "data": {
      "image/png": "[encoded data removed]",
      "text/plain": [
       "<Figure size 432x288 with 1 Axes>"
      ]
     },
     "metadata": {},
     "output_type": "display_data"
    }
   ],
   "source": [
    "sns.boxplot(x=df['Amount'], fliersize=5)"
   ]
  },
  {
   "cell_type": "code",
   "execution_count": 15,
   "id": "250456a2",
   "metadata": {},
   "outputs": [
    {
     "data": {
      "text/plain": [
       "<AxesSubplot:xlabel='Amount', ylabel='Count'>"
      ]
     },
     "execution_count": 15,
     "metadata": {},
     "output_type": "execute_result"
    },
    {
     "data": {
      "image/png": "[encoded data removed]",
      "text/plain": [
       "<Figure size 432x288 with 1 Axes>"
      ]
     },
     "metadata": {},
     "output_type": "display_data"
    }
   ],
   "source": [
    "sns.histplot(data=df['Amount'], bins=20)"
   ]
  },
  {
   "cell_type": "code",
   "execution_count": 16,
   "id": "b1ab5f02",
   "metadata": {},
   "outputs": [
    {
     "data": {
      "text/html": [
       "<div>\n",
       "<style scoped>\n",
       "    .dataframe tbody tr th:only-of-type {\n",
       "        vertical-align: middle;\n",
       "    }\n",
       "\n",
       "    .dataframe tbody tr th {\n",
       "        vertical-align: top;\n",
       "    }\n",
       "\n",
       "    .dataframe thead th {\n",
       "        text-align: right;\n",
       "    }\n",
       "</style>\n",
       "<table border=\"1\" class=\"dataframe\">\n",
       "  <thead>\n",
       "    <tr style=\"text-align: right;\">\n",
       "      <th></th>\n",
       "      <th>Amount</th>\n",
       "      <th>Class</th>\n",
       "    </tr>\n",
       "  </thead>\n",
       "  <tbody>\n",
       "    <tr>\n",
       "      <th>274771</th>\n",
       "      <td>25691.16</td>\n",
       "      <td>0</td>\n",
       "    </tr>\n",
       "    <tr>\n",
       "      <th>58465</th>\n",
       "      <td>19656.53</td>\n",
       "      <td>0</td>\n",
       "    </tr>\n",
       "    <tr>\n",
       "      <th>151296</th>\n",
       "      <td>18910.00</td>\n",
       "      <td>0</td>\n",
       "    </tr>\n",
       "    <tr>\n",
       "      <th>46841</th>\n",
       "      <td>12910.93</td>\n",
       "      <td>0</td>\n",
       "    </tr>\n",
       "    <tr>\n",
       "      <th>54018</th>\n",
       "      <td>11898.09</td>\n",
       "      <td>0</td>\n",
       "    </tr>\n",
       "    <tr>\n",
       "      <th>169457</th>\n",
       "      <td>11789.84</td>\n",
       "      <td>0</td>\n",
       "    </tr>\n",
       "    <tr>\n",
       "      <th>284249</th>\n",
       "      <td>10199.44</td>\n",
       "      <td>0</td>\n",
       "    </tr>\n",
       "    <tr>\n",
       "      <th>227921</th>\n",
       "      <td>10000.00</td>\n",
       "      <td>0</td>\n",
       "    </tr>\n",
       "    <tr>\n",
       "      <th>74699</th>\n",
       "      <td>8790.26</td>\n",
       "      <td>0</td>\n",
       "    </tr>\n",
       "    <tr>\n",
       "      <th>245474</th>\n",
       "      <td>8787.00</td>\n",
       "      <td>0</td>\n",
       "    </tr>\n",
       "  </tbody>\n",
       "</table>\n",
       "</div>"
      ],
      "text/plain": [
       "          Amount  Class\n",
       "274771  25691.16      0\n",
       "58465   19656.53      0\n",
       "151296  18910.00      0\n",
       "46841   12910.93      0\n",
       "54018   11898.09      0\n",
       "169457  11789.84      0\n",
       "284249  10199.44      0\n",
       "227921  10000.00      0\n",
       "74699    8790.26      0\n",
       "245474   8787.00      0"
      ]
     },
     "execution_count": 16,
     "metadata": {},
     "output_type": "execute_result"
    }
   ],
   "source": [
    "#Let's inspect the ten largest transcations and their corresponding class.\n",
    "df.sort_values(by='Amount',ascending=False)[['Amount','Class']].iloc[:10]"
   ]
  },
  {
   "cell_type": "code",
   "execution_count": 17,
   "id": "8c0a2abe",
   "metadata": {},
   "outputs": [
    {
     "data": {
      "text/html": [
       "<div>\n",
       "<style scoped>\n",
       "    .dataframe tbody tr th:only-of-type {\n",
       "        vertical-align: middle;\n",
       "    }\n",
       "\n",
       "    .dataframe tbody tr th {\n",
       "        vertical-align: top;\n",
       "    }\n",
       "\n",
       "    .dataframe thead th {\n",
       "        text-align: right;\n",
       "    }\n",
       "</style>\n",
       "<table border=\"1\" class=\"dataframe\">\n",
       "  <thead>\n",
       "    <tr style=\"text-align: right;\">\n",
       "      <th></th>\n",
       "      <th>Amount</th>\n",
       "      <th>Class</th>\n",
       "    </tr>\n",
       "  </thead>\n",
       "  <tbody>\n",
       "    <tr>\n",
       "      <th>247888</th>\n",
       "      <td>0.0</td>\n",
       "      <td>0</td>\n",
       "    </tr>\n",
       "    <tr>\n",
       "      <th>10307</th>\n",
       "      <td>0.0</td>\n",
       "      <td>0</td>\n",
       "    </tr>\n",
       "    <tr>\n",
       "      <th>265658</th>\n",
       "      <td>0.0</td>\n",
       "      <td>0</td>\n",
       "    </tr>\n",
       "    <tr>\n",
       "      <th>92049</th>\n",
       "      <td>0.0</td>\n",
       "      <td>0</td>\n",
       "    </tr>\n",
       "    <tr>\n",
       "      <th>28629</th>\n",
       "      <td>0.0</td>\n",
       "      <td>0</td>\n",
       "    </tr>\n",
       "    <tr>\n",
       "      <th>242261</th>\n",
       "      <td>0.0</td>\n",
       "      <td>0</td>\n",
       "    </tr>\n",
       "    <tr>\n",
       "      <th>231211</th>\n",
       "      <td>0.0</td>\n",
       "      <td>0</td>\n",
       "    </tr>\n",
       "    <tr>\n",
       "      <th>207747</th>\n",
       "      <td>0.0</td>\n",
       "      <td>0</td>\n",
       "    </tr>\n",
       "    <tr>\n",
       "      <th>190081</th>\n",
       "      <td>0.0</td>\n",
       "      <td>0</td>\n",
       "    </tr>\n",
       "    <tr>\n",
       "      <th>8346</th>\n",
       "      <td>0.0</td>\n",
       "      <td>0</td>\n",
       "    </tr>\n",
       "  </tbody>\n",
       "</table>\n",
       "</div>"
      ],
      "text/plain": [
       "        Amount  Class\n",
       "247888     0.0      0\n",
       "10307      0.0      0\n",
       "265658     0.0      0\n",
       "92049      0.0      0\n",
       "28629      0.0      0\n",
       "242261     0.0      0\n",
       "231211     0.0      0\n",
       "207747     0.0      0\n",
       "190081     0.0      0\n",
       "8346       0.0      0"
      ]
     },
     "execution_count": 17,
     "metadata": {},
     "output_type": "execute_result"
    }
   ],
   "source": [
    "#What about ten smallest?\n",
    "df.sort_values(by='Amount',ascending=False)[['Amount','Class']].tail(10)"
   ]
  },
  {
   "cell_type": "markdown",
   "id": "c2255532",
   "metadata": {},
   "source": [
    "# Preprocessing"
   ]
  },
  {
   "cell_type": "markdown",
   "id": "9c761b1b",
   "metadata": {},
   "source": [
    "## Issues need to be addressed\n",
    "* Imbalanced class --- to be targeted with undersampling or oversampling\n",
    "* Non-scaled \"Time\" and \"Amount\" --- to be targeted with scaling"
   ]
  },
  {
   "cell_type": "markdown",
   "id": "3476534f",
   "metadata": {},
   "source": [
    "## Activities need to add into the workflow\n",
    "* Undersampling or Oversampling\n",
    "* Scale \"Time\" and \"Amount\" like rest of the features\n",
    "* Cross Validation"
   ]
  },
  {
   "cell_type": "markdown",
   "id": "b8eae42f",
   "metadata": {},
   "source": [
    "### Undersampling and Oversampling\n",
    "Now there are two options to solve the imbalanced class problem, undersampling and oversampling. At first glance, undersampling by trimming down non-fraud data might be a \"wise\" choice since we have big surplus of non-fraud data. However, training on a fraud and non-fraud ratio of 50/50 can lead to bias, meaning the model likely will not perform well with unseen data. One of the reason being, with random undersampling when events are removed without any consideration for what they are, we risk of losing potentially important data.\n",
    "\n",
    "In order to leverage as much data as possible, with no observations wasted, we will approach resolving the imbalance problem with oversampling - use SMOTE. A common mistake is SMOTEing before spliting into training and validation(test) datasets, this will lead to serious data leak - contaminate your testing data.\n",
    "\n",
    "Pros and Cons of random undersampling and oversampling\n",
    "* Random undersampling\n",
    "    * Pros:\n",
    "        * Less run time\n",
    "        * Avoid accuracy paradox\n",
    "    * Cons:\n",
    "        * Information loss\n",
    "        * May lead to bias - sample does not represent the real world\n",
    "       \n",
    "       \n",
    "* Oversampling\n",
    "    * Pros:\n",
    "        * No information loss\n",
    "        * Reduce bias\n",
    "        * Arguably, improve validity - repeatable test\n",
    "    * Cons:\n",
    "        * Long run time\n",
    "        * Prone to overfit"
   ]
  },
  {
   "cell_type": "markdown",
   "id": "28902eea",
   "metadata": {},
   "source": [
    "### Scaling\n",
    "It is the best practice to scale after train-test split, however, tree-based classifier like random forest does not benifit from scaling. Thus, we will only apply scaler for logistic regression."
   ]
  },
  {
   "cell_type": "markdown",
   "id": "44410497",
   "metadata": {},
   "source": [
    "### Cross Validation\n",
    "Before proceeding to fix the imbalance issue and scaling issue, we need to split the dataset into training and testing set, becasue we need the testing dataset to remain \"clean\". Since we have a relatively large dataset, meaning plenty of room to work with, adding leverage K-fold cross validation to observe performance variations will be beneficial to the analysis. Given the imbalanced class distribution, we prefer StratifiedKFold over KFold here. "
   ]
  },
  {
   "cell_type": "markdown",
   "id": "692be42e",
   "metadata": {},
   "source": [
    "## Import More Packages"
   ]
  },
  {
   "cell_type": "code",
   "execution_count": 2,
   "id": "e4a4b137",
   "metadata": {},
   "outputs": [],
   "source": [
    "import numpy as np\n",
    "import seaborn as sns\n",
    "from sklearn.linear_model import LogisticRegression\n",
    "from sklearn.ensemble import RandomForestClassifier\n",
    "from sklearn.linear_model import LogisticRegression\n",
    "from sklearn.datasets import load_digits\n",
    "from sklearn.preprocessing import StandardScaler, RobustScaler\n",
    "from sklearn.model_selection import StratifiedKFold\n",
    "from imblearn.over_sampling import SMOTE \n",
    "from sklearn.metrics import classification_report, confusion_matrix, plot_roc_curve\n",
    "from imblearn.pipeline import Pipeline, make_pipeline\n",
    "from sklearn.model_selection import train_test_split\n",
    "from sklearn.model_selection import cross_val_score, cross_validate\n",
    "from sklearn.model_selection import GridSearchCV\n",
    "from sklearn.metrics import accuracy_score, average_precision_score, precision_recall_curve, PrecisionRecallDisplay\n",
    "from sklearn.metrics import roc_auc_score"
   ]
  },
  {
   "cell_type": "markdown",
   "id": "ff477ec1",
   "metadata": {},
   "source": [
    "# Build Machine Learning Models"
   ]
  },
  {
   "cell_type": "markdown",
   "id": "d6b88424",
   "metadata": {},
   "source": [
    "## First Approach\n",
    "\n",
    "### Modeling with Oversampling Method\n",
    "**Summary**\n",
    "* Logisitc regression and random forest performs, accuracy-wise, relatively close.\n",
    "* Both models seem to have high accuracy, meaning the model is predicting a good number of correct classes but is it really meaningful for fraud detection with imbalanced class? The answer is not so much. It will be explained later."
   ]
  },
  {
   "cell_type": "code",
   "execution_count": 19,
   "id": "d6c1da20",
   "metadata": {},
   "outputs": [],
   "source": [
    "#Define X and y from dataframe as numpy array\n",
    "X = np.array(df.drop('Class', axis=1)) #drop Class column\n",
    "y = np.array(df['Class'])\n",
    "\n",
    "#create a function to produce scores\n",
    "def get_score(model, X_train, X_test, y_train, y_test):\n",
    "    model.fit(X_train, y_train)\n",
    "    return model.score(X_test, y_test)\n",
    "\n",
    "#Define the paremeters of the Stratified k-flod to prepare for cross-validation\n",
    "\n",
    "#Here we keep shuffle as True. \n",
    "#You will see if we keep shuffle false the testing set will have a ascending index pattern,\n",
    "#which creates bias in our validation results.\n",
    "skf = StratifiedKFold(n_splits=5, random_state=42, shuffle=True) \n",
    "\n",
    "#Creat empty list to store scores\n",
    "scores_logistic = []\n",
    "scores_rf = []"
   ]
  },
  {
   "cell_type": "markdown",
   "id": "01d901dd",
   "metadata": {},
   "source": [
    "Why is it important to leave shuffle True?"
   ]
  },
  {
   "cell_type": "code",
   "execution_count": 98,
   "id": "8d69e18a",
   "metadata": {},
   "outputs": [
    {
     "name": "stdout",
     "output_type": "stream",
     "text": [
      "Train: [     0      1      2 ... 284804 284805 284806] Test: [     5      7      9 ... 284778 284793 284799]\n",
      "Train: [     0      3      4 ... 284804 284805 284806] Test: [     1      2     13 ... 284792 284797 284801]\n",
      "Train: [     1      2      5 ... 284800 284801 284803] Test: [     0      3      4 ... 284804 284805 284806]\n",
      "Train: [     0      1      2 ... 284804 284805 284806] Test: [    14     19     27 ... 284795 284796 284800]\n",
      "Train: [     0      1      2 ... 284804 284805 284806] Test: [    11     15     22 ... 284791 284794 284803]\n"
     ]
    }
   ],
   "source": [
    "#shuffle is True\n",
    "skf_test = StratifiedKFold(n_splits=5, random_state=42, shuffle=True)\n",
    "for train_index, test_index in skf_test.split(X, y):\n",
    "    print(\"Train:\", train_index, \"Test:\", test_index)"
   ]
  },
  {
   "cell_type": "code",
   "execution_count": 100,
   "id": "425b72ef",
   "metadata": {},
   "outputs": [
    {
     "name": "stdout",
     "output_type": "stream",
     "text": [
      "Train: [ 30473  30496  31002 ... 284804 284805 284806] Test: [    0     1     2 ... 57017 57018 57019]\n",
      "Train: [     0      1      2 ... 284804 284805 284806] Test: [ 30473  30496  31002 ... 113964 113965 113966]\n",
      "Train: [     0      1      2 ... 284804 284805 284806] Test: [ 81609  82400  83053 ... 170946 170947 170948]\n",
      "Train: [     0      1      2 ... 284804 284805 284806] Test: [150654 150660 150661 ... 227866 227867 227868]\n",
      "Train: [     0      1      2 ... 227866 227867 227868] Test: [212516 212644 213092 ... 284804 284805 284806]\n"
     ]
    }
   ],
   "source": [
    "#if shuffle is False. Not very good if we look at the index sequence. They are not randomly selected.\n",
    "skf_test = StratifiedKFold(n_splits=5, random_state=None, shuffle=False)\n",
    "for train_index, test_index in skf_test.split(X, y):\n",
    "    print(\"Train:\", train_index, \"Test:\", test_index)"
   ]
  },
  {
   "cell_type": "code",
   "execution_count": 101,
   "id": "4e3e7831",
   "metadata": {},
   "outputs": [
    {
     "data": {
      "text/plain": [
       "227846"
      ]
     },
     "execution_count": 101,
     "metadata": {},
     "output_type": "execute_result"
    }
   ],
   "source": [
    "len(train_index)"
   ]
  },
  {
   "cell_type": "code",
   "execution_count": 102,
   "id": "bc50e5ef",
   "metadata": {},
   "outputs": [
    {
     "data": {
      "text/plain": [
       "56961"
      ]
     },
     "execution_count": 102,
     "metadata": {},
     "output_type": "execute_result"
    }
   ],
   "source": [
    "len(test_index)"
   ]
  },
  {
   "cell_type": "markdown",
   "id": "cffd9e84",
   "metadata": {},
   "source": [
    "Terms to known before moving forward:\n",
    "* True Positive (TP): Also known as sensitivity, TP means that a positive prediction was given, and it was true. \n",
    "* True Negative (TN): Also known as specificity, TN means that a negative prediction was given, and it was true. \n",
    "* False Positive (FP): Also known as Type-I error, an FP prediction is positive, but the actual value was negative. \n",
    "* False Negative (FN): Also known as Type-II error, an FN prediction is negative, but the actual value was positive. \n",
    "\n",
    "In sklearn, confusion matrix:\n",
    "\n",
    "        [TN, FP]\n",
    "        \n",
    "        [FN, TP]\n",
    "    "
   ]
  },
  {
   "cell_type": "code",
   "execution_count": 104,
   "id": "2fbd9280",
   "metadata": {},
   "outputs": [
    {
     "name": "stdout",
     "output_type": "stream",
     "text": [
      "LR Classification report:\n",
      "               precision    recall  f1-score   support\n",
      "\n",
      "           0       1.00      0.99      1.00     56863\n",
      "           1       0.17      0.84      0.28        99\n",
      "\n",
      "    accuracy                           0.99     56962\n",
      "   macro avg       0.58      0.92      0.64     56962\n",
      "weighted avg       1.00      0.99      0.99     56962\n",
      "\n",
      "LR Confusion matrix:\n",
      " [[56443   420]\n",
      " [   16    83]]\n",
      "LR Classification report:\n",
      "               precision    recall  f1-score   support\n",
      "\n",
      "           0       1.00      0.99      1.00     56863\n",
      "           1       0.15      0.93      0.25        99\n",
      "\n",
      "    accuracy                           0.99     56962\n",
      "   macro avg       0.57      0.96      0.62     56962\n",
      "weighted avg       1.00      0.99      0.99     56962\n",
      "\n",
      "LR Confusion matrix:\n",
      " [[56328   535]\n",
      " [    7    92]]\n",
      "LR Classification report:\n",
      "               precision    recall  f1-score   support\n",
      "\n",
      "           0       1.00      0.99      1.00     56863\n",
      "           1       0.15      0.91      0.26        98\n",
      "\n",
      "    accuracy                           0.99     56961\n",
      "   macro avg       0.58      0.95      0.63     56961\n",
      "weighted avg       1.00      0.99      0.99     56961\n",
      "\n",
      "LR Confusion matrix:\n",
      " [[56366   497]\n",
      " [    9    89]]\n",
      "LR Classification report:\n",
      "               precision    recall  f1-score   support\n",
      "\n",
      "           0       1.00      0.99      1.00     56863\n",
      "           1       0.15      0.89      0.26        98\n",
      "\n",
      "    accuracy                           0.99     56961\n",
      "   macro avg       0.57      0.94      0.63     56961\n",
      "weighted avg       1.00      0.99      0.99     56961\n",
      "\n",
      "LR Confusion matrix:\n",
      " [[56367   496]\n",
      " [   11    87]]\n",
      "LR Classification report:\n",
      "               precision    recall  f1-score   support\n",
      "\n",
      "           0       1.00      0.99      1.00     56863\n",
      "           1       0.14      0.86      0.24        98\n",
      "\n",
      "    accuracy                           0.99     56961\n",
      "   macro avg       0.57      0.92      0.62     56961\n",
      "weighted avg       1.00      0.99      0.99     56961\n",
      "\n",
      "LR Confusion matrix:\n",
      " [[56352   511]\n",
      " [   14    84]]\n"
     ]
    }
   ],
   "source": [
    "#logisticRegression\n",
    "for train_index, test_index in skf.split(X, y):\n",
    "    \n",
    "    #define the oversampler\n",
    "    sm = SMOTE(sampling_strategy='minority',random_state=42)\n",
    "    \n",
    "    #Split the training and testing data\n",
    "    X_train, X_test, y_train, y_test = X[train_index], X[test_index], y[train_index], y[test_index]\n",
    "    \n",
    "    #Oversampling with SMOTE\n",
    "    X_train, y_train = sm.fit_resample(X_train, y_train)\n",
    "    \n",
    "    #Scaling with RobustScaler, less prone to be effected by outliers\n",
    "    scaler = RobustScaler()\n",
    "    \n",
    "    #Only scale column \"Time\" and \"Amount\" - column index 0 and -1.\n",
    "    X_train[:,[0, -1]] = scaler.fit_transform(X_train[:,[0, -1]]) \n",
    "    X_test[:,[0, -1]] = scaler.transform(X_test[:,[0, -1]])\n",
    "    \n",
    "    clf_1 = LogisticRegression(max_iter=1000)\n",
    "    #Get the scores by using the predefined get_score function\n",
    "    scores_logistic.append(get_score(clf_1, X_train, X_test, y_train, y_test))  \n",
    "    \n",
    "    predicted = clf_1.predict(X_test)\n",
    "\n",
    "    # Print the classifcation report and confusion matrix\n",
    "    print('LR Classification report:\\n', classification_report(y_test, predicted))\n",
    "    conf_mat = confusion_matrix(y_true=y_test, y_pred=predicted)\n",
    "    print('LR Confusion matrix:\\n', conf_mat)"
   ]
  },
  {
   "cell_type": "code",
   "execution_count": 20,
   "id": "705d88af",
   "metadata": {},
   "outputs": [
    {
     "name": "stdout",
     "output_type": "stream",
     "text": [
      "RF Classification report:\n",
      "               precision    recall  f1-score   support\n",
      "\n",
      "           0       1.00      1.00      1.00     56863\n",
      "           1       0.86      0.80      0.83        99\n",
      "\n",
      "    accuracy                           1.00     56962\n",
      "   macro avg       0.93      0.90      0.91     56962\n",
      "weighted avg       1.00      1.00      1.00     56962\n",
      "\n",
      "RF Confusion matrix:\n",
      " [[56850    13]\n",
      " [   20    79]]\n",
      "RF Classification report:\n",
      "               precision    recall  f1-score   support\n",
      "\n",
      "           0       1.00      1.00      1.00     56863\n",
      "           1       0.92      0.86      0.89        99\n",
      "\n",
      "    accuracy                           1.00     56962\n",
      "   macro avg       0.96      0.93      0.94     56962\n",
      "weighted avg       1.00      1.00      1.00     56962\n",
      "\n",
      "RF Confusion matrix:\n",
      " [[56856     7]\n",
      " [   14    85]]\n",
      "RF Classification report:\n",
      "               precision    recall  f1-score   support\n",
      "\n",
      "           0       1.00      1.00      1.00     56863\n",
      "           1       0.93      0.84      0.88        98\n",
      "\n",
      "    accuracy                           1.00     56961\n",
      "   macro avg       0.97      0.92      0.94     56961\n",
      "weighted avg       1.00      1.00      1.00     56961\n",
      "\n",
      "RF Confusion matrix:\n",
      " [[56857     6]\n",
      " [   16    82]]\n",
      "RF Classification report:\n",
      "               precision    recall  f1-score   support\n",
      "\n",
      "           0       1.00      1.00      1.00     56863\n",
      "           1       0.90      0.83      0.86        98\n",
      "\n",
      "    accuracy                           1.00     56961\n",
      "   macro avg       0.95      0.91      0.93     56961\n",
      "weighted avg       1.00      1.00      1.00     56961\n",
      "\n",
      "RF Confusion matrix:\n",
      " [[56854     9]\n",
      " [   17    81]]\n",
      "RF Classification report:\n",
      "               precision    recall  f1-score   support\n",
      "\n",
      "           0       1.00      1.00      1.00     56863\n",
      "           1       0.88      0.83      0.85        98\n",
      "\n",
      "    accuracy                           1.00     56961\n",
      "   macro avg       0.94      0.91      0.93     56961\n",
      "weighted avg       1.00      1.00      1.00     56961\n",
      "\n",
      "RF Confusion matrix:\n",
      " [[56852    11]\n",
      " [   17    81]]\n"
     ]
    }
   ],
   "source": [
    "#RandomForest\n",
    "for train_index, test_index in skf.split(X, y):\n",
    "    \n",
    "    #define the oversampler\n",
    "    sm = SMOTE(sampling_strategy='minority',random_state=42)\n",
    "    \n",
    "    #Split the training and testing data\n",
    "    X_train, X_test, y_train, y_test = X[train_index], X[test_index], y[train_index], y[test_index]\n",
    "    \n",
    "    #Oversampling with SMOTE\n",
    "    X_train, y_train = sm.fit_resample(X_train, y_train)\n",
    "    \n",
    "    rf_1 = RandomForestClassifier(n_estimators=100)\n",
    "    #Get the scores by using the predefined get_score function \n",
    "    scores_rf.append(get_score( rf_1, X_train, X_test, y_train, y_test))\n",
    "    \n",
    "    predicted = rf_1.predict(X_test)\n",
    "\n",
    "    # Print the classifcation report and confusion matrix\n",
    "    print('RF Classification report:\\n', classification_report(y_test, predicted))\n",
    "    conf_mat = confusion_matrix(y_true=y_test, y_pred=predicted)\n",
    "    print('RF Confusion matrix:\\n', conf_mat)"
   ]
  },
  {
   "cell_type": "code",
   "execution_count": 108,
   "id": "4ad5d638",
   "metadata": {},
   "outputs": [
    {
     "data": {
      "text/plain": [
       "array([[-0.88981147,  1.2926045 ],\n",
       "       [-0.88981147, -0.23140753],\n",
       "       [-0.88980022,  3.66829167],\n",
       "       ...,\n",
       "       [-0.12228469, -0.24893683],\n",
       "       [ 0.67812634,  0.32714934],\n",
       "       [-0.79052138, -0.24893683]])"
      ]
     },
     "execution_count": 108,
     "metadata": {},
     "output_type": "execute_result"
    }
   ],
   "source": [
    "X_train[:,[0,-1]]"
   ]
  },
  {
   "cell_type": "code",
   "execution_count": 109,
   "id": "d3484503",
   "metadata": {},
   "outputs": [
    {
     "name": "stdout",
     "output_type": "stream",
     "text": [
      "LR scores: [0.9923457743758998, 0.9904848846599488, 0.9911167289900107, 0.9910991731184494, 0.9907831674303471]\n"
     ]
    }
   ],
   "source": [
    "print(\"LR scores: \"+ str(scores_logistic))"
   ]
  },
  {
   "cell_type": "code",
   "execution_count": 21,
   "id": "dbea2297",
   "metadata": {},
   "outputs": [
    {
     "name": "stdout",
     "output_type": "stream",
     "text": [
      "RF scores: [0.999420666409185, 0.9996313331694814, 0.9996137708256526, 0.9995435473394076, 0.9995084355962852]\n"
     ]
    }
   ],
   "source": [
    "print(\"RF scores: \"+ str(scores_rf))"
   ]
  },
  {
   "cell_type": "code",
   "execution_count": 111,
   "id": "2f3973e5",
   "metadata": {},
   "outputs": [
    {
     "data": {
      "text/plain": [
       "227452"
      ]
     },
     "execution_count": 111,
     "metadata": {},
     "output_type": "execute_result"
    }
   ],
   "source": [
    "#look at class 1 distribution\n",
    "np.count_nonzero(y_train)"
   ]
  },
  {
   "cell_type": "code",
   "execution_count": 112,
   "id": "f59ec248",
   "metadata": {},
   "outputs": [
    {
     "data": {
      "text/plain": [
       "227452"
      ]
     },
     "execution_count": 112,
     "metadata": {},
     "output_type": "execute_result"
    }
   ],
   "source": [
    "#look at class 0 distribution\n",
    "len(y_train)-np.count_nonzero(y_train)"
   ]
  },
  {
   "cell_type": "markdown",
   "id": "a2ecdaff",
   "metadata": {},
   "source": [
    "We saw an equal number of observations from each class in the training set. Clearly, SMOTE did its job by creating synthetic fraud class observations. Fraud and non-fraud has reached to 1:1."
   ]
  },
  {
   "cell_type": "markdown",
   "id": "c806b4e2",
   "metadata": {},
   "source": [
    "But using for loops make it difficult to extract information of what has happened within. Plus, the entrie code is not modulated enough which leads to low efficicency and does not benifict the reader in any way. It is time to abandon **for loops** and start to use **pipeline(s)**."
   ]
  },
  {
   "cell_type": "markdown",
   "id": "33f4d765",
   "metadata": {},
   "source": [
    "## Second Approach"
   ]
  },
  {
   "cell_type": "markdown",
   "id": "2727df15",
   "metadata": {},
   "source": [
    "Start from the scratch."
   ]
  },
  {
   "cell_type": "markdown",
   "id": "22708b9a",
   "metadata": {},
   "source": [
    "### Baseline Test & Evaluation Metrics\n",
    "\n",
    "In the baseline test, since we are dealing with imbalance data, accuracy is not the best performance metric here. Reporting classification accuracy for a severely imbalanced classification problem could be dangerously misleading. The reason is, a high accuracy (or low error) is achievable by a no skill model that only predicts the majority class. So we should instead focus on recall or precision.\n",
    "\n",
    "#### Why is recall important?\n",
    "Imagine you are a large bank. In America, if a transaction is fraudulent, banks generally have to cover that transaction.\n",
    "\n",
    "* Assumptions: False negative is more costly.\n",
    "* **Our goal: Increase recall score as much as possible without overcompensating on the cost of precision. (target precision >= 0.70)**\n",
    "\n",
    "**Summary**\n",
    "* Random forest and logistic regression yield similar **accuracy** scores as expected.\n",
    "* However, **random forest** has gained advantage over logistic regression on scoring recall. Random forest is the clear winner here in terms of recall.\n",
    "* The baseline recall score is **0.75** for **random forest classification**.\n"
   ]
  },
  {
   "cell_type": "markdown",
   "id": "efca8a07",
   "metadata": {},
   "source": [
    "#### Random forest - accuracy/recall"
   ]
  },
  {
   "cell_type": "code",
   "execution_count": 6,
   "id": "b3a4dfaa",
   "metadata": {},
   "outputs": [],
   "source": [
    "#define X and y\n",
    "X = df.drop('Class', axis=1) #drop Class column\n",
    "y = df['Class']"
   ]
  },
  {
   "cell_type": "code",
   "execution_count": 8,
   "id": "2f8bb2e8",
   "metadata": {},
   "outputs": [],
   "source": [
    "#set up train-test split\n",
    "X_train, X_test, y_train, y_test = train_test_split(X, y, random_state=45)"
   ]
  },
  {
   "cell_type": "code",
   "execution_count": 10,
   "id": "04a85635",
   "metadata": {},
   "outputs": [],
   "source": [
    "#define cv and classifier\n",
    "kf = StratifiedKFold(n_splits=5)\n",
    "rf = RandomForestClassifier(n_estimators=100, random_state=13)"
   ]
  },
  {
   "cell_type": "code",
   "execution_count": 103,
   "id": "5e7681e8",
   "metadata": {},
   "outputs": [
    {
     "data": {
      "text/plain": [
       "array([0.99957866, 0.99953185, 0.99946162, 0.99941481, 0.99953185])"
      ]
     },
     "execution_count": 103,
     "metadata": {},
     "output_type": "execute_result"
    }
   ],
   "source": [
    "#use cross_val_score to score for accuracy\n",
    "cross_val_score(rf, X_train, y_train, cv=kf, scoring='accuracy')"
   ]
  },
  {
   "cell_type": "code",
   "execution_count": 107,
   "id": "79b6a935",
   "metadata": {},
   "outputs": [
    {
     "name": "stdout",
     "output_type": "stream",
     "text": [
      "Classification report:\n",
      "               precision    recall  f1-score   support\n",
      "\n",
      "           0       1.00      1.00      1.00     71064\n",
      "           1       0.94      0.83      0.88       138\n",
      "\n",
      "    accuracy                           1.00     71202\n",
      "   macro avg       0.97      0.91      0.94     71202\n",
      "weighted avg       1.00      1.00      1.00     71202\n",
      "\n",
      "Confusion matrix:\n",
      " [[71057     7]\n",
      " [   24   114]]\n"
     ]
    }
   ],
   "source": [
    "#confusion matrix\n",
    "rf.fit(X_train, y_train)\n",
    "predicted = rf.predict(X_test)\n",
    "\n",
    "# Print the classifcation report and confusion matrix\n",
    "print('Classification report:\\n', classification_report(y_test, predicted))\n",
    "conf_mat = confusion_matrix(y_true=y_test, y_pred=predicted)\n",
    "print('Confusion matrix:\\n', conf_mat)"
   ]
  },
  {
   "cell_type": "code",
   "execution_count": 104,
   "id": "e266a880",
   "metadata": {},
   "outputs": [
    {
     "data": {
      "text/plain": [
       "array([0.77142857, 0.76056338, 0.76056338, 0.71830986, 0.74647887])"
      ]
     },
     "execution_count": 104,
     "metadata": {},
     "output_type": "execute_result"
    }
   ],
   "source": [
    "# score for recall\n",
    "cross_val_score(rf, X_train, y_train, cv=kf, scoring='recall')"
   ]
  },
  {
   "cell_type": "code",
   "execution_count": 105,
   "id": "9a4de2cd",
   "metadata": {},
   "outputs": [],
   "source": [
    "recall_array = np.array([0.77142857, 0.76056338, 0.76056338, 0.71830986, 0.74647887])"
   ]
  },
  {
   "cell_type": "code",
   "execution_count": 108,
   "id": "c3ec886b",
   "metadata": {},
   "outputs": [
    {
     "name": "stdout",
     "output_type": "stream",
     "text": [
      "Average recall score = 0.7514688119999999\n"
     ]
    }
   ],
   "source": [
    "print(\"Average recall score = \"+ str(np.mean(recall_array)))"
   ]
  },
  {
   "cell_type": "markdown",
   "id": "df19a89c",
   "metadata": {},
   "source": [
    "We are reaching a recall score of 0.75 with the random forest apprach."
   ]
  },
  {
   "cell_type": "markdown",
   "id": "b762cfa0",
   "metadata": {},
   "source": [
    "#### Logistic regression - accuracy/recall"
   ]
  },
  {
   "cell_type": "code",
   "execution_count": 11,
   "id": "02d5d168",
   "metadata": {},
   "outputs": [
    {
     "name": "stdout",
     "output_type": "stream",
     "text": [
      "[0.99911051 0.99925095 0.99920414 0.99901688 0.99904028]\n"
     ]
    }
   ],
   "source": [
    "from sklearn.compose import ColumnTransformer\n",
    "\n",
    "clf = LogisticRegression(max_iter=1000)\n",
    "\n",
    "scaler = ColumnTransformer([('RobustScaler', \n",
    "                              RobustScaler(),\n",
    "                             ['Time', 'Amount']\n",
    "                            )], remainder='passthrough')\n",
    "\n",
    "clf_pipeline = make_pipeline(scaler, clf)\n",
    "print(cross_val_score(clf_pipeline, X_train, y_train, cv=kf, scoring='accuracy'))"
   ]
  },
  {
   "cell_type": "code",
   "execution_count": 13,
   "id": "76e1fad9",
   "metadata": {},
   "outputs": [
    {
     "data": {
      "text/plain": [
       "Pipeline(steps=[('columntransformer',\n",
       "                 ColumnTransformer(remainder='passthrough',\n",
       "                                   transformers=[('RobustScaler',\n",
       "                                                  RobustScaler(),\n",
       "                                                  ['Time', 'Amount'])])),\n",
       "                ('logisticregression', LogisticRegression(max_iter=1000))])"
      ]
     },
     "execution_count": 13,
     "metadata": {},
     "output_type": "execute_result"
    }
   ],
   "source": [
    "scaler = ColumnTransformer([('RobustScaler', \n",
    "                              RobustScaler(),\n",
    "                             ['Time', 'Amount']\n",
    "                            )], remainder='passthrough')\n",
    "transformer = scaler.fit(X_train)\n",
    "X_test_scaled = transformer.transform(X_test)\n",
    "clf_pipeline.fit(X_train, y_train)"
   ]
  },
  {
   "cell_type": "code",
   "execution_count": 14,
   "id": "5df85ad0",
   "metadata": {},
   "outputs": [],
   "source": [
    "X_test_scaled = pd.DataFrame(data=X_test_scaled, index=np.arange(len(X_test_scaled)), columns=X_test.columns)"
   ]
  },
  {
   "cell_type": "code",
   "execution_count": 15,
   "id": "8355a8c0",
   "metadata": {},
   "outputs": [],
   "source": [
    "predicted = clf.predict(X_test_scaled)"
   ]
  },
  {
   "cell_type": "code",
   "execution_count": 16,
   "id": "f182f225",
   "metadata": {},
   "outputs": [
    {
     "name": "stdout",
     "output_type": "stream",
     "text": [
      "Classification report:\n",
      "               precision    recall  f1-score   support\n",
      "\n",
      "           0       1.00      1.00      1.00     71064\n",
      "           1       0.93      0.64      0.76       138\n",
      "\n",
      "    accuracy                           1.00     71202\n",
      "   macro avg       0.96      0.82      0.88     71202\n",
      "weighted avg       1.00      1.00      1.00     71202\n",
      "\n",
      "Confusion matrix:\n",
      " [[71057     7]\n",
      " [   50    88]]\n"
     ]
    }
   ],
   "source": [
    "# Print the classifcation report and confusion matrix\n",
    "print('Classification report:\\n', classification_report(y_test, predicted))\n",
    "conf_mat = confusion_matrix(y_true=y_test, y_pred=predicted)\n",
    "print('Confusion matrix:\\n', conf_mat)"
   ]
  },
  {
   "cell_type": "code",
   "execution_count": 74,
   "id": "1c19d55a",
   "metadata": {},
   "outputs": [
    {
     "name": "stdout",
     "output_type": "stream",
     "text": [
      "[0.58571429 0.63380282 0.57746479 0.56338028 0.53521127]\n"
     ]
    }
   ],
   "source": [
    "print(cross_val_score(clf_pipeline, X_train, y_train, cv=kf, scoring='recall'))"
   ]
  },
  {
   "cell_type": "code",
   "execution_count": 85,
   "id": "049e13ab",
   "metadata": {},
   "outputs": [
    {
     "name": "stdout",
     "output_type": "stream",
     "text": [
      "Average recall score = 0.57911469\n"
     ]
    }
   ],
   "source": [
    "print(\"Average recall score = \"+ str(np.mean([0.58571429, 0.63380282, 0.57746479, 0.56338028, 0.53521127])))"
   ]
  },
  {
   "cell_type": "markdown",
   "id": "ab634ad2",
   "metadata": {},
   "source": [
    "We are reaching a recall score of 0.58 with the logistic regression approach."
   ]
  },
  {
   "cell_type": "markdown",
   "id": "795d2e82",
   "metadata": {},
   "source": [
    "Move forward with random forest classifier."
   ]
  },
  {
   "cell_type": "markdown",
   "id": "1fe350e1",
   "metadata": {},
   "source": [
    "### Modeling with Oversampling\n",
    "Oversampling before cross validation can post numerious problems such as data leaks and overfitting. Instead, we should split into training and testing folds, then run oversampling, training, and testing on each fold.\n",
    "\n",
    "More details on cross-validation and upsampling can be found in this github post:https://kiwidamien.github.io/how-to-do-cross-validation-when-upsampling-data.html\n",
    "\n",
    "**Summary**\n",
    "* The recall score improved from **0.75** to **0.81** after SMOTE."
   ]
  },
  {
   "cell_type": "code",
   "execution_count": 82,
   "id": "9d4c144e",
   "metadata": {},
   "outputs": [
    {
     "data": {
      "text/plain": [
       "array([0.84285714, 0.81690141, 0.81690141, 0.74647887, 0.81690141])"
      ]
     },
     "execution_count": 82,
     "metadata": {},
     "output_type": "execute_result"
    }
   ],
   "source": [
    "#let's empoly imblearn's built-in pipeline method here.\n",
    "imba_pipeline = make_pipeline(SMOTE(random_state=42), \n",
    "                              RandomForestClassifier(n_estimators=100))\n",
    "cross_val_score(imba_pipeline, X_train, y_train, scoring='recall', cv=kf)"
   ]
  },
  {
   "cell_type": "code",
   "execution_count": 166,
   "id": "3273016b",
   "metadata": {},
   "outputs": [
    {
     "data": {
      "text/plain": [
       "0.8080080479999999"
      ]
     },
     "execution_count": 166,
     "metadata": {},
     "output_type": "execute_result"
    }
   ],
   "source": [
    "np.mean([0.84285714, 0.81690141, 0.81690141, 0.74647887, 0.81690141])"
   ]
  },
  {
   "cell_type": "markdown",
   "id": "c19d739e",
   "metadata": {},
   "source": [
    "*Use cross_validate instead to check all other targets: f1, precision, accuracy."
   ]
  },
  {
   "cell_type": "code",
   "execution_count": 174,
   "id": "557f1ba6",
   "metadata": {},
   "outputs": [],
   "source": [
    "scores=cross_validate(imba_pipeline, X_train, y_train, scoring = ('f1', 'recall','precision','accuracy'), cv=5)"
   ]
  },
  {
   "cell_type": "code",
   "execution_count": 178,
   "id": "6a80c57f",
   "metadata": {},
   "outputs": [
    {
     "name": "stdout",
     "output_type": "stream",
     "text": [
      "0.8080080482897385\n"
     ]
    }
   ],
   "source": [
    "print(np.mean(scores['test_recall']))"
   ]
  },
  {
   "cell_type": "code",
   "execution_count": 179,
   "id": "f91fa0cd",
   "metadata": {},
   "outputs": [
    {
     "name": "stdout",
     "output_type": "stream",
     "text": [
      "0.8699913480334903\n"
     ]
    }
   ],
   "source": [
    "print(np.mean(scores['test_precision']))"
   ]
  },
  {
   "cell_type": "code",
   "execution_count": 180,
   "id": "0a0119fe",
   "metadata": {},
   "outputs": [
    {
     "name": "stdout",
     "output_type": "stream",
     "text": [
      "0.8376783479300138\n"
     ]
    }
   ],
   "source": [
    "print(np.mean(scores['test_f1']))"
   ]
  },
  {
   "cell_type": "code",
   "execution_count": 181,
   "id": "51ab4706",
   "metadata": {},
   "outputs": [
    {
     "name": "stdout",
     "output_type": "stream",
     "text": [
      "0.9994803492427611\n"
     ]
    }
   ],
   "source": [
    "print(np.mean(scores['test_accuracy']))"
   ]
  },
  {
   "cell_type": "markdown",
   "id": "94fd583f",
   "metadata": {},
   "source": [
    "## Tuning the Hyperparameters\n",
    "The following hyperparameter tuning aim to optimize on **recall** over the random forest model. GridSearchCV will help us find the best hyperparameters.\n",
    "\n",
    "**Summary**\n",
    "* **GridSearchCV** is able to secure a best setting which scores **0.86 on recall**.\n",
    "* We are able to improve the number of false negitaves from **24 to 19**, while keeping precision relatively low. Since the recall and precision trade-off, it is very difficult to improve both as the same time."
   ]
  },
  {
   "cell_type": "markdown",
   "id": "04b44687",
   "metadata": {},
   "source": [
    "First try GridSearchCV model selector to look for best hyperparameters. Set scoring target to recall."
   ]
  },
  {
   "cell_type": "code",
   "execution_count": 206,
   "id": "80986480",
   "metadata": {},
   "outputs": [],
   "source": [
    "params ={'n_estimators': [10, 25, 50, 100, 150],\n",
    " 'max_depth': [4, 6, 10, 12, 14],\n",
    " 'random_state': [13]}"
   ]
  },
  {
   "cell_type": "code",
   "execution_count": 208,
   "id": "81c08904",
   "metadata": {},
   "outputs": [],
   "source": [
    "#Include GridSearchCV into the imb pipeline loop\n",
    "new_params = {'randomforestclassifier__' + key: params[key] for key in params}\n",
    "grid_imba = GridSearchCV(imba_pipeline, param_grid=new_params, cv=kf, scoring=('recall'),\n",
    "                        return_train_score=True)\n",
    "grid_imba.fit(X_train, y_train);"
   ]
  },
  {
   "cell_type": "code",
   "execution_count": 239,
   "id": "cc535c13",
   "metadata": {},
   "outputs": [
    {
     "data": {
      "text/plain": [
       "{'randomforestclassifier__max_depth': 14,\n",
       " 'randomforestclassifier__n_estimators': 100,\n",
       " 'randomforestclassifier__random_state': 13}"
      ]
     },
     "execution_count": 239,
     "metadata": {},
     "output_type": "execute_result"
    }
   ],
   "source": [
    "grid_imba.best_params_"
   ]
  },
  {
   "cell_type": "code",
   "execution_count": 210,
   "id": "cd4e58f7",
   "metadata": {},
   "outputs": [
    {
     "data": {
      "text/plain": [
       "0.864507042253521"
      ]
     },
     "execution_count": 210,
     "metadata": {},
     "output_type": "execute_result"
    }
   ],
   "source": [
    "grid_imba.best_score_"
   ]
  },
  {
   "cell_type": "markdown",
   "id": "d40a1899",
   "metadata": {},
   "source": [
    "As scoring set to recall, the GridSearchCV provides the best setup:\n",
    "\n",
    " 'randomforestclassifier__max_depth': 6,\n",
    " \n",
    " 'randomforestclassifier__n_estimators': 100,\n",
    " \n",
    " 'randomforestclassifier__random_state': 13"
   ]
  },
  {
   "cell_type": "code",
   "execution_count": 232,
   "id": "16398e16",
   "metadata": {},
   "outputs": [],
   "source": [
    "#plug in the best parameters from GridSearchCV\n",
    "rf_recall = RandomForestClassifier(n_estimators=100, max_depth=6, random_state=13)\n"
   ]
  },
  {
   "cell_type": "code",
   "execution_count": 233,
   "id": "ef49185b",
   "metadata": {},
   "outputs": [],
   "source": [
    "pipeline_cv_recall = make_pipeline(SMOTE(random_state=42), rf_recall)\n"
   ]
  },
  {
   "cell_type": "code",
   "execution_count": 234,
   "id": "643e0a8f",
   "metadata": {},
   "outputs": [
    {
     "data": {
      "text/plain": [
       "Pipeline(steps=[('smote', SMOTE(random_state=42)),\n",
       "                ('randomforestclassifier',\n",
       "                 RandomForestClassifier(max_depth=6, random_state=13))])"
      ]
     },
     "execution_count": 234,
     "metadata": {},
     "output_type": "execute_result"
    }
   ],
   "source": [
    "pipeline_cv_recall.fit(X_train, y_train)\n"
   ]
  },
  {
   "cell_type": "code",
   "execution_count": 236,
   "id": "ebbe15dd",
   "metadata": {},
   "outputs": [
    {
     "name": "stdout",
     "output_type": "stream",
     "text": [
      "Classification report:\n",
      "               precision    recall  f1-score   support\n",
      "\n",
      "           0       1.00      0.99      1.00     71064\n",
      "           1       0.25      0.89      0.39       138\n",
      "\n",
      "    accuracy                           0.99     71202\n",
      "   macro avg       0.62      0.94      0.69     71202\n",
      "weighted avg       1.00      0.99      1.00     71202\n",
      "\n",
      "Confusion matrix:\n",
      " [[70689   375]\n",
      " [   15   123]]\n"
     ]
    }
   ],
   "source": [
    "predicted_cv_recall = rf_recall.predict(X_test)\n",
    "print('Classification report:\\n', classification_report(y_test, predicted_cv_recall))\n",
    "conf_mat = confusion_matrix(y_true=y_test, y_pred=predicted_cv_recall)\n",
    "print('Confusion matrix:\\n', conf_mat)"
   ]
  },
  {
   "cell_type": "code",
   "execution_count": 237,
   "id": "7bad8e22",
   "metadata": {},
   "outputs": [
    {
     "data": {
      "text/plain": [
       "Text(83.40000000000006, 0.5, 'true label')"
      ]
     },
     "execution_count": 237,
     "metadata": {},
     "output_type": "execute_result"
    },
    {
     "data": {
      "image/png": "[encoded data removed]",
      "text/plain": [
       "<Figure size 432x288 with 2 Axes>"
      ]
     },
     "metadata": {
      "needs_background": "light"
     },
     "output_type": "display_data"
    }
   ],
   "source": [
    "#plot the confusion matrix\n",
    "sns.heatmap(conf_mat, square=True, annot=True, fmt='d', cbar=True, cmap=\"YlGnBu\")\n",
    "plt.xlabel('predicted label')\n",
    "plt.ylabel('true label')"
   ]
  },
  {
   "cell_type": "markdown",
   "id": "12ba197b",
   "metadata": {},
   "source": [
    "The precision score is now shockingly only 0.25, which is not acceptable. It seems like scoring on recall forces the model to search the best parameters for the highest recall but evidentally failed on precision. It is clear that we need to change our strategy. Since f1 score is calculated from the harmonic mean of the precision and recall and f2 score is the weighted harmonic mean of the precision and recall (more weights are given to recall), we will score on f1 and f2 to see the results.\n",
    "For more information on f1, f2, and f0.5: https://docs.h2o.ai/driverless-ai/latest-stable/docs/userguide/scorers.html"
   ]
  },
  {
   "cell_type": "markdown",
   "id": "6c0cc817",
   "metadata": {},
   "source": [
    "Reproduce the same process but scoring on f1 instead of recall."
   ]
  },
  {
   "cell_type": "code",
   "execution_count": 160,
   "id": "4c96da5d",
   "metadata": {},
   "outputs": [],
   "source": [
    "#Same process but score on f1 instead\n",
    "new_params = {'randomforestclassifier__' + key: params[key] for key in params}\n",
    "grid_imba = GridSearchCV(imba_pipeline, param_grid=new_params, cv=kf, scoring='f1',\n",
    "                        return_train_score=True)\n",
    "grid_imba.fit(X_train, y_train);"
   ]
  },
  {
   "cell_type": "code",
   "execution_count": 161,
   "id": "b9eb4362",
   "metadata": {},
   "outputs": [
    {
     "data": {
      "text/plain": [
       "{'randomforestclassifier__max_depth': 14,\n",
       " 'randomforestclassifier__n_estimators': 100,\n",
       " 'randomforestclassifier__random_state': 13}"
      ]
     },
     "execution_count": 161,
     "metadata": {},
     "output_type": "execute_result"
    }
   ],
   "source": [
    "grid_imba.best_params_"
   ]
  },
  {
   "cell_type": "code",
   "execution_count": 162,
   "id": "45f90ebb",
   "metadata": {},
   "outputs": [
    {
     "data": {
      "text/plain": [
       "0.7882657627665843"
      ]
     },
     "execution_count": 162,
     "metadata": {},
     "output_type": "execute_result"
    }
   ],
   "source": [
    "grid_imba.best_score_"
   ]
  },
  {
   "cell_type": "markdown",
   "id": "4f0b0f57",
   "metadata": {},
   "source": [
    "As scoring set to recall, the GridSearchCV provides the best setup:\n",
    "\n",
    "     'randomforestclassifier__max_depth': 14,\n",
    " \n",
    "     'randomforestclassifier__n_estimators': 100,\n",
    " \n",
    "     'randomforestclassifier__random_state': 13"
   ]
  },
  {
   "cell_type": "code",
   "execution_count": 197,
   "id": "cd457a15",
   "metadata": {},
   "outputs": [],
   "source": [
    "#plug in the best parameters into a new estimater\n",
    "rf_opt = RandomForestClassifier(n_estimators=100, max_depth=14, random_state=13)"
   ]
  },
  {
   "cell_type": "code",
   "execution_count": 198,
   "id": "1b5c665d",
   "metadata": {},
   "outputs": [],
   "source": [
    "pipeline_opt = make_pipeline(SMOTE(random_state=42), rf_opt)"
   ]
  },
  {
   "cell_type": "code",
   "execution_count": 199,
   "id": "4fa810f6",
   "metadata": {},
   "outputs": [
    {
     "data": {
      "text/plain": [
       "Pipeline(steps=[('smote', SMOTE(random_state=42)),\n",
       "                ('randomforestclassifier',\n",
       "                 RandomForestClassifier(max_depth=14, random_state=13))])"
      ]
     },
     "execution_count": 199,
     "metadata": {},
     "output_type": "execute_result"
    }
   ],
   "source": [
    "pipeline_opt.fit(X_train, y_train)"
   ]
  },
  {
   "cell_type": "code",
   "execution_count": 200,
   "id": "7b669807",
   "metadata": {},
   "outputs": [],
   "source": [
    "predicted_opt = pipeline_opt.predict(X_test)"
   ]
  },
  {
   "cell_type": "code",
   "execution_count": 212,
   "id": "91802479",
   "metadata": {},
   "outputs": [
    {
     "name": "stdout",
     "output_type": "stream",
     "text": [
      "Classification report:\n",
      "               precision    recall  f1-score   support\n",
      "\n",
      "           0       1.00      1.00      1.00     71064\n",
      "           1       0.75      0.86      0.80       138\n",
      "\n",
      "    accuracy                           1.00     71202\n",
      "   macro avg       0.88      0.93      0.90     71202\n",
      "weighted avg       1.00      1.00      1.00     71202\n",
      "\n",
      "Confusion matrix:\n",
      " [[71025    39]\n",
      " [   19   119]]\n"
     ]
    }
   ],
   "source": [
    "print('Classification report:\\n', classification_report(y_test, predicted_opt))\n",
    "conf_mat = confusion_matrix(y_true=y_test, y_pred=predicted_opt)\n",
    "print('Confusion matrix:\\n', conf_mat)"
   ]
  },
  {
   "cell_type": "code",
   "execution_count": 217,
   "id": "7ee85eb3",
   "metadata": {},
   "outputs": [
    {
     "data": {
      "text/plain": [
       "Text(83.40000000000006, 0.5, 'true label')"
      ]
     },
     "execution_count": 217,
     "metadata": {},
     "output_type": "execute_result"
    },
    {
     "data": {
      "image/png": "[encoded data removed]",
      "text/plain": [
       "<Figure size 432x288 with 2 Axes>"
      ]
     },
     "metadata": {
      "needs_background": "light"
     },
     "output_type": "display_data"
    }
   ],
   "source": [
    "#plot the confusion matrix\n",
    "sns.heatmap(conf_mat, square=True, annot=True, fmt='d', cbar=True, cmap=\"YlGnBu\")\n",
    "plt.xlabel('predicted label')\n",
    "plt.ylabel('true label')"
   ]
  },
  {
   "cell_type": "code",
   "execution_count": 218,
   "id": "eb6083b3",
   "metadata": {},
   "outputs": [],
   "source": [
    "#Same process but score on f2 instead\n",
    "#import scorer maker and fbeta_score ---> allow us to personalize our f-score\n",
    "from sklearn.metrics import make_scorer,fbeta_score\n",
    "def f2_func(y_true, y_pred):\n",
    "    f2_score = fbeta_score(y_true, y_pred, beta=2)\n",
    "    return f2_score\n",
    "\n",
    "def my_f2_scorer():\n",
    "    return make_scorer(f2_func)\n",
    "\n",
    "new_params = {'randomforestclassifier__' + key: params[key] for key in params}\n",
    "grid_imba = GridSearchCV(imba_pipeline, param_grid=new_params, cv=kf, scoring=my_f2_scorer(),\n",
    "                        return_train_score=True)\n",
    "grid_imba.fit(X_train, y_train);"
   ]
  },
  {
   "cell_type": "code",
   "execution_count": 219,
   "id": "7cf4798f",
   "metadata": {},
   "outputs": [
    {
     "data": {
      "text/plain": [
       "{'randomforestclassifier__max_depth': 14,\n",
       " 'randomforestclassifier__n_estimators': 100,\n",
       " 'randomforestclassifier__random_state': 13}"
      ]
     },
     "execution_count": 219,
     "metadata": {},
     "output_type": "execute_result"
    }
   ],
   "source": [
    "grid_imba.best_params_"
   ]
  },
  {
   "cell_type": "code",
   "execution_count": 220,
   "id": "a23a0331",
   "metadata": {},
   "outputs": [
    {
     "data": {
      "text/plain": [
       "0.8097458290293706"
      ]
     },
     "execution_count": 220,
     "metadata": {},
     "output_type": "execute_result"
    }
   ],
   "source": [
    "grid_imba.best_score_"
   ]
  },
  {
   "cell_type": "markdown",
   "id": "12191e00",
   "metadata": {},
   "source": [
    "Reset scoring to f2 suprisingly yield the same result as f1. \n",
    "\n",
    "    'randomforestclassifier__max_depth': 14,\n",
    " \n",
    "    'randomforestclassifier__n_estimators': 100,\n",
    " \n",
    "    'randomforestclassifier__random_state': 13.\n",
    "\n",
    "We will not proceed with confusion matrix and classification report at this point, since it will return the same results as f1."
   ]
  },
  {
   "cell_type": "markdown",
   "id": "250e5ee9",
   "metadata": {},
   "source": [
    "# PR-curve and ROC-AUC"
   ]
  },
  {
   "cell_type": "markdown",
   "id": "59452091",
   "metadata": {},
   "source": [
    "Now we have found the best parameters for our model:\n",
    "\n",
    "    'randomforestclassifier__max_depth': 14,\n",
    "\n",
    "    'randomforestclassifier__n_estimators': 100,\n",
    "\n",
    "    'randomforestclassifier__random_state': 13.\n",
    "    \n",
    "It is time to proceed with ploting the precision-recall curve and ROC. In addition, we can calculate the area under the ROC curve to see how good/bad our model is."
   ]
  },
  {
   "cell_type": "code",
   "execution_count": 242,
   "id": "9277f97a",
   "metadata": {},
   "outputs": [],
   "source": [
    "#Use the best parameters to repulicate the random forest model\n",
    "kf = StratifiedKFold(n_splits=5)\n",
    "rf_best = RandomForestClassifier(max_depth=14, n_estimators=100, random_state=13)\n",
    "pipeline_rf_best = Pipeline([('Preprocessing', SMOTE(random_state=42)),('clf',rf_best)])\n",
    "pipeline_rf_best.fit(X_train, y_train)\n",
    "predicted_opt = rf_best.predict(X_test)"
   ]
  },
  {
   "cell_type": "markdown",
   "id": "0882760a",
   "metadata": {},
   "source": [
    "### PR curve"
   ]
  },
  {
   "cell_type": "code",
   "execution_count": 243,
   "id": "dcf389e6",
   "metadata": {},
   "outputs": [
    {
     "data": {
      "image/png": "[encoded data removed]",
      "text/plain": [
       "<Figure size 432x288 with 1 Axes>"
      ]
     },
     "metadata": {
      "needs_background": "light"
     },
     "output_type": "display_data"
    }
   ],
   "source": [
    "#Plot PR-curve\n",
    "#Calculate average precision and the PR curve\n",
    "average_precision = average_precision_score(y_test, predicted_opt)\n",
    "\n",
    "# Obtain precision and recall \n",
    "precision, recall, _ = precision_recall_curve(y_test, predicted_opt)\n",
    "\n",
    "# Plot the recall precision tradeoff\n",
    "disp = PrecisionRecallDisplay(precision, recall, average_precision = average_precision)\n",
    "disp.plot()\n",
    "plt.title(\"PR-curve(Random Forest)\")\n",
    "plt.show()"
   ]
  },
  {
   "cell_type": "markdown",
   "id": "dcdad308",
   "metadata": {},
   "source": [
    "### ROC curve and AUC"
   ]
  },
  {
   "cell_type": "code",
   "execution_count": 244,
   "id": "6e091da7",
   "metadata": {},
   "outputs": [],
   "source": [
    "probs = rf_best.predict_proba(X_test)"
   ]
  },
  {
   "cell_type": "code",
   "execution_count": 245,
   "id": "87e82a01",
   "metadata": {},
   "outputs": [
    {
     "name": "stdout",
     "output_type": "stream",
     "text": [
      "0.9838607411649348\n"
     ]
    }
   ],
   "source": [
    "print(roc_auc_score(y_test, probs[:,1]))"
   ]
  },
  {
   "cell_type": "code",
   "execution_count": 250,
   "id": "507ce1ce",
   "metadata": {},
   "outputs": [
    {
     "name": "stdout",
     "output_type": "stream",
     "text": [
      "We are reaching AUC = 0.98 with this model.\n"
     ]
    }
   ],
   "source": [
    "print(\"We are reaching AUC = \" +str(round(roc_auc_score(y_test, probs[:,1]), ndigits=2)) +\" with this model.\") "
   ]
  },
  {
   "cell_type": "code",
   "execution_count": 252,
   "id": "3a4e8f4c",
   "metadata": {},
   "outputs": [
    {
     "data": {
      "image/png": "[encoded data removed]",
      "text/plain": [
       "<Figure size 432x288 with 1 Axes>"
      ]
     },
     "metadata": {
      "needs_background": "light"
     },
     "output_type": "display_data"
    }
   ],
   "source": [
    "#plot the roc curve\n",
    "plot_roc_curve(rf_best, X_test, y_test) \n",
    "plt.title(\"ROC and AUC(Random Forest)\")\n",
    "plt.show()"
   ]
  },
  {
   "cell_type": "markdown",
   "id": "a8910e67",
   "metadata": {},
   "source": [
    "# Conclusion"
   ]
  },
  {
   "cell_type": "markdown",
   "id": "1284a20a",
   "metadata": {},
   "source": [
    "We built a model that predicts fraud class (fraudulent or non-fraudulent) from given credit card fraud data. Such information can be a great asset to fraud prevention and risk management in many corporations as fraud attacks continue to increase in volume and techniques. \n",
    "\n",
    "With the second approach, we are able to reach a recall score of 0.86 without sacrificing the precision of the final model. This model, built on random forest classifier, was optimized by GridSearchCV and incorporate with methods such as: StratifiedKFold cross validation and SMOTE(oversampling). Besides 0.87 on recall, the final model achieves a ROC-AUC of 0.98."
   ]
  },
  {
   "cell_type": "markdown",
   "id": "5ea75990",
   "metadata": {},
   "source": [
    "# Final Thoughts\n",
    "1. The long run time with the final oversampled random forest approach - it might not be the best model for production.\n",
    "2. There is definitely still room for improvements. Tuning more hyper-parameters could yield better results, but the long run time really constrained the number of trials."
   ]
  },
  {
   "cell_type": "markdown",
   "id": "d81d079c",
   "metadata": {},
   "source": [
    "Remarks: \n",
    "* cross_val_score only accept one scoring, while cross_validate can accept and return multiple scores."
   ]
  },
  {
   "cell_type": "code",
   "execution_count": null,
   "id": "39642b7b",
   "metadata": {},
   "outputs": [],
   "source": []
  }
 ],
 "metadata": {
  "kernelspec": {
   "display_name": "Python 3",
   "language": "python",
   "name": "python3"
  },
  "language_info": {
   "codemirror_mode": {
    "name": "ipython",
    "version": 3
   },
   "file_extension": ".py",
   "mimetype": "text/x-python",
   "name": "python",
   "nbconvert_exporter": "python",
   "pygments_lexer": "ipython3",
   "version": "3.8.8"
  },
  "toc": {
   "base_numbering": 1,
   "nav_menu": {},
   "number_sections": true,
   "sideBar": true,
   "skip_h1_title": false,
   "title_cell": "Table of Contents",
   "title_sidebar": "Contents",
   "toc_cell": false,
   "toc_position": {
    "height": "calc(100% - 180px)",
    "left": "10px",
    "top": "150px",
    "width": "381px"
   },
   "toc_section_display": true,
   "toc_window_display": false
  }
 },
 "nbformat": 4,
 "nbformat_minor": 5
}
